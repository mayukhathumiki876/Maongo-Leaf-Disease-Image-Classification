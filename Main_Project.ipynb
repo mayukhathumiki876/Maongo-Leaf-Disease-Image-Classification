{
  "cells": [
    {
      "cell_type": "code",
      "execution_count": 1,
      "metadata": {
        "colab": {
          "base_uri": "https://localhost:8080/"
        },
        "id": "FBOVlNemt-5c",
        "outputId": "39483781-eecf-48c4-bafa-ddc9c2ef2cce"
      },
      "outputs": [
        {
          "output_type": "stream",
          "name": "stdout",
          "text": [
            "Looking in indexes: https://pypi.org/simple, https://us-python.pkg.dev/colab-wheels/public/simple/\n",
            "Collecting opendatasets\n",
            "  Downloading opendatasets-0.1.22-py3-none-any.whl (15 kB)\n",
            "Requirement already satisfied: kaggle in /usr/local/lib/python3.10/dist-packages (from opendatasets) (1.5.13)\n",
            "Requirement already satisfied: click in /usr/local/lib/python3.10/dist-packages (from opendatasets) (8.1.3)\n",
            "Requirement already satisfied: tqdm in /usr/local/lib/python3.10/dist-packages (from opendatasets) (4.65.0)\n",
            "Requirement already satisfied: requests in /usr/local/lib/python3.10/dist-packages (from kaggle->opendatasets) (2.27.1)\n",
            "Requirement already satisfied: python-dateutil in /usr/local/lib/python3.10/dist-packages (from kaggle->opendatasets) (2.8.2)\n",
            "Requirement already satisfied: python-slugify in /usr/local/lib/python3.10/dist-packages (from kaggle->opendatasets) (8.0.1)\n",
            "Requirement already satisfied: urllib3 in /usr/local/lib/python3.10/dist-packages (from kaggle->opendatasets) (1.26.15)\n",
            "Requirement already satisfied: certifi in /usr/local/lib/python3.10/dist-packages (from kaggle->opendatasets) (2022.12.7)\n",
            "Requirement already satisfied: six>=1.10 in /usr/local/lib/python3.10/dist-packages (from kaggle->opendatasets) (1.16.0)\n",
            "Requirement already satisfied: text-unidecode>=1.3 in /usr/local/lib/python3.10/dist-packages (from python-slugify->kaggle->opendatasets) (1.3)\n",
            "Requirement already satisfied: idna<4,>=2.5 in /usr/local/lib/python3.10/dist-packages (from requests->kaggle->opendatasets) (3.4)\n",
            "Requirement already satisfied: charset-normalizer~=2.0.0 in /usr/local/lib/python3.10/dist-packages (from requests->kaggle->opendatasets) (2.0.12)\n",
            "Installing collected packages: opendatasets\n",
            "Successfully installed opendatasets-0.1.22\n",
            "Looking in indexes: https://pypi.org/simple, https://us-python.pkg.dev/colab-wheels/public/simple/\n",
            "Requirement already satisfied: pandas in /usr/local/lib/python3.10/dist-packages (1.5.3)\n",
            "Requirement already satisfied: pytz>=2020.1 in /usr/local/lib/python3.10/dist-packages (from pandas) (2022.7.1)\n",
            "Requirement already satisfied: python-dateutil>=2.8.1 in /usr/local/lib/python3.10/dist-packages (from pandas) (2.8.2)\n",
            "Requirement already satisfied: numpy>=1.21.0 in /usr/local/lib/python3.10/dist-packages (from pandas) (1.22.4)\n",
            "Requirement already satisfied: six>=1.5 in /usr/local/lib/python3.10/dist-packages (from python-dateutil>=2.8.1->pandas) (1.16.0)\n"
          ]
        }
      ],
      "source": [
        "!pip install opendatasets \n",
        "!pip install pandas"
      ]
    },
    {
      "cell_type": "code",
      "execution_count": 2,
      "metadata": {
        "id": "MsIeI-V-uCwJ"
      },
      "outputs": [],
      "source": [
        "\n",
        "import opendatasets as od\n",
        "import pandas\n",
        "  "
      ]
    },
    {
      "cell_type": "code",
      "source": [
        "import seaborn as sns\n",
        "import matplotlib.pyplot as plt\n"
      ],
      "metadata": {
        "id": "iaxcKgYnlYu0"
      },
      "execution_count": 3,
      "outputs": []
    },
    {
      "cell_type": "code",
      "execution_count": 4,
      "metadata": {
        "colab": {
          "base_uri": "https://localhost:8080/"
        },
        "id": "pkcV4VrfuD1v",
        "outputId": "c001fcb9-17ef-4287-9406-05398b1edc33"
      },
      "outputs": [
        {
          "output_type": "stream",
          "name": "stdout",
          "text": [
            "Please provide your Kaggle credentials to download this dataset. Learn more: http://bit.ly/kaggle-creds\n",
            "Your Kaggle username: thumikimayukha\n",
            "Your Kaggle Key: ··········\n",
            "Downloading mango-leaf-disease-dataset.zip to ./mango-leaf-disease-dataset\n"
          ]
        },
        {
          "output_type": "stream",
          "name": "stderr",
          "text": [
            "100%|██████████| 103M/103M [00:04<00:00, 24.6MB/s]\n"
          ]
        },
        {
          "output_type": "stream",
          "name": "stdout",
          "text": [
            "\n"
          ]
        }
      ],
      "source": [
        "od.download(\"https://www.kaggle.com/datasets/aryashah2k/mango-leaf-disease-dataset\")"
      ]
    },
    {
      "cell_type": "code",
      "execution_count": 5,
      "metadata": {
        "id": "J00GzlBquFBH"
      },
      "outputs": [],
      "source": [
        "Id=[]"
      ]
    },
    {
      "cell_type": "code",
      "execution_count": 6,
      "metadata": {
        "id": "B6Z2fd3buGBb"
      },
      "outputs": [],
      "source": [
        "import numpy as np # linear algebra\n",
        "import pandas as pd # data processing, CSV file I/O (e.g. pd.read_csv)\n",
        "\n",
        "# Input data files are available in the read-only \"../input/\" directory\n",
        "# For example, running this (by clicking run or pressing Shift+Enter) will list all files under the input directory\n",
        "\n",
        "import os\n"
      ]
    },
    {
      "cell_type": "code",
      "execution_count": 7,
      "metadata": {
        "id": "rrWqql6puHU-"
      },
      "outputs": [],
      "source": [
        "for dirname, _, filenames in os.walk('/content/mango-leaf-disease-dataset'):\n",
        "    for filename in filenames:\n",
        "        Id.append(os.path.join(dirname, filename))"
      ]
    },
    {
      "cell_type": "code",
      "execution_count": 8,
      "metadata": {
        "colab": {
          "base_uri": "https://localhost:8080/"
        },
        "id": "665eHAozuL5K",
        "outputId": "d50593ff-2593-4863-d5f1-6bf1602e9110"
      },
      "outputs": [
        {
          "output_type": "execute_result",
          "data": {
            "text/plain": [
              "['/content/mango-leaf-disease-dataset/Die Back/IMG_20211027_194824 (Custom).jpg',\n",
              " '/content/mango-leaf-disease-dataset/Die Back/20211129_162141 (Custom).jpg',\n",
              " '/content/mango-leaf-disease-dataset/Die Back/20211129_160902 (Custom).jpg',\n",
              " '/content/mango-leaf-disease-dataset/Die Back/20211129_160923 (Custom).jpg',\n",
              " '/content/mango-leaf-disease-dataset/Die Back/20211129_162043 (Custom).jpg']"
            ]
          },
          "metadata": {},
          "execution_count": 8
        }
      ],
      "source": [
        "Id[:5]"
      ]
    },
    {
      "cell_type": "code",
      "execution_count": 9,
      "metadata": {
        "colab": {
          "base_uri": "https://localhost:8080/",
          "height": 206
        },
        "id": "TsVkSnhIuNoE",
        "outputId": "92a4b395-8fac-4c23-800a-7da5e70854c2"
      },
      "outputs": [
        {
          "output_type": "execute_result",
          "data": {
            "text/plain": [
              "                                            filename\n",
              "0  /content/mango-leaf-disease-dataset/Die Back/I...\n",
              "1  /content/mango-leaf-disease-dataset/Die Back/2...\n",
              "2  /content/mango-leaf-disease-dataset/Die Back/2...\n",
              "3  /content/mango-leaf-disease-dataset/Die Back/2...\n",
              "4  /content/mango-leaf-disease-dataset/Die Back/2..."
            ],
            "text/html": [
              "\n",
              "  <div id=\"df-c2ad1e64-03d5-414e-8ef2-bdc434e5aea4\">\n",
              "    <div class=\"colab-df-container\">\n",
              "      <div>\n",
              "<style scoped>\n",
              "    .dataframe tbody tr th:only-of-type {\n",
              "        vertical-align: middle;\n",
              "    }\n",
              "\n",
              "    .dataframe tbody tr th {\n",
              "        vertical-align: top;\n",
              "    }\n",
              "\n",
              "    .dataframe thead th {\n",
              "        text-align: right;\n",
              "    }\n",
              "</style>\n",
              "<table border=\"1\" class=\"dataframe\">\n",
              "  <thead>\n",
              "    <tr style=\"text-align: right;\">\n",
              "      <th></th>\n",
              "      <th>filename</th>\n",
              "    </tr>\n",
              "  </thead>\n",
              "  <tbody>\n",
              "    <tr>\n",
              "      <th>0</th>\n",
              "      <td>/content/mango-leaf-disease-dataset/Die Back/I...</td>\n",
              "    </tr>\n",
              "    <tr>\n",
              "      <th>1</th>\n",
              "      <td>/content/mango-leaf-disease-dataset/Die Back/2...</td>\n",
              "    </tr>\n",
              "    <tr>\n",
              "      <th>2</th>\n",
              "      <td>/content/mango-leaf-disease-dataset/Die Back/2...</td>\n",
              "    </tr>\n",
              "    <tr>\n",
              "      <th>3</th>\n",
              "      <td>/content/mango-leaf-disease-dataset/Die Back/2...</td>\n",
              "    </tr>\n",
              "    <tr>\n",
              "      <th>4</th>\n",
              "      <td>/content/mango-leaf-disease-dataset/Die Back/2...</td>\n",
              "    </tr>\n",
              "  </tbody>\n",
              "</table>\n",
              "</div>\n",
              "      <button class=\"colab-df-convert\" onclick=\"convertToInteractive('df-c2ad1e64-03d5-414e-8ef2-bdc434e5aea4')\"\n",
              "              title=\"Convert this dataframe to an interactive table.\"\n",
              "              style=\"display:none;\">\n",
              "        \n",
              "  <svg xmlns=\"http://www.w3.org/2000/svg\" height=\"24px\"viewBox=\"0 0 24 24\"\n",
              "       width=\"24px\">\n",
              "    <path d=\"M0 0h24v24H0V0z\" fill=\"none\"/>\n",
              "    <path d=\"M18.56 5.44l.94 2.06.94-2.06 2.06-.94-2.06-.94-.94-2.06-.94 2.06-2.06.94zm-11 1L8.5 8.5l.94-2.06 2.06-.94-2.06-.94L8.5 2.5l-.94 2.06-2.06.94zm10 10l.94 2.06.94-2.06 2.06-.94-2.06-.94-.94-2.06-.94 2.06-2.06.94z\"/><path d=\"M17.41 7.96l-1.37-1.37c-.4-.4-.92-.59-1.43-.59-.52 0-1.04.2-1.43.59L10.3 9.45l-7.72 7.72c-.78.78-.78 2.05 0 2.83L4 21.41c.39.39.9.59 1.41.59.51 0 1.02-.2 1.41-.59l7.78-7.78 2.81-2.81c.8-.78.8-2.07 0-2.86zM5.41 20L4 18.59l7.72-7.72 1.47 1.35L5.41 20z\"/>\n",
              "  </svg>\n",
              "      </button>\n",
              "      \n",
              "  <style>\n",
              "    .colab-df-container {\n",
              "      display:flex;\n",
              "      flex-wrap:wrap;\n",
              "      gap: 12px;\n",
              "    }\n",
              "\n",
              "    .colab-df-convert {\n",
              "      background-color: #E8F0FE;\n",
              "      border: none;\n",
              "      border-radius: 50%;\n",
              "      cursor: pointer;\n",
              "      display: none;\n",
              "      fill: #1967D2;\n",
              "      height: 32px;\n",
              "      padding: 0 0 0 0;\n",
              "      width: 32px;\n",
              "    }\n",
              "\n",
              "    .colab-df-convert:hover {\n",
              "      background-color: #E2EBFA;\n",
              "      box-shadow: 0px 1px 2px rgba(60, 64, 67, 0.3), 0px 1px 3px 1px rgba(60, 64, 67, 0.15);\n",
              "      fill: #174EA6;\n",
              "    }\n",
              "\n",
              "    [theme=dark] .colab-df-convert {\n",
              "      background-color: #3B4455;\n",
              "      fill: #D2E3FC;\n",
              "    }\n",
              "\n",
              "    [theme=dark] .colab-df-convert:hover {\n",
              "      background-color: #434B5C;\n",
              "      box-shadow: 0px 1px 3px 1px rgba(0, 0, 0, 0.15);\n",
              "      filter: drop-shadow(0px 1px 2px rgba(0, 0, 0, 0.3));\n",
              "      fill: #FFFFFF;\n",
              "    }\n",
              "  </style>\n",
              "\n",
              "      <script>\n",
              "        const buttonEl =\n",
              "          document.querySelector('#df-c2ad1e64-03d5-414e-8ef2-bdc434e5aea4 button.colab-df-convert');\n",
              "        buttonEl.style.display =\n",
              "          google.colab.kernel.accessAllowed ? 'block' : 'none';\n",
              "\n",
              "        async function convertToInteractive(key) {\n",
              "          const element = document.querySelector('#df-c2ad1e64-03d5-414e-8ef2-bdc434e5aea4');\n",
              "          const dataTable =\n",
              "            await google.colab.kernel.invokeFunction('convertToInteractive',\n",
              "                                                     [key], {});\n",
              "          if (!dataTable) return;\n",
              "\n",
              "          const docLinkHtml = 'Like what you see? Visit the ' +\n",
              "            '<a target=\"_blank\" href=https://colab.research.google.com/notebooks/data_table.ipynb>data table notebook</a>'\n",
              "            + ' to learn more about interactive tables.';\n",
              "          element.innerHTML = '';\n",
              "          dataTable['output_type'] = 'display_data';\n",
              "          await google.colab.output.renderOutput(dataTable, element);\n",
              "          const docLink = document.createElement('div');\n",
              "          docLink.innerHTML = docLinkHtml;\n",
              "          element.appendChild(docLink);\n",
              "        }\n",
              "      </script>\n",
              "    </div>\n",
              "  </div>\n",
              "  "
            ]
          },
          "metadata": {},
          "execution_count": 9
        }
      ],
      "source": [
        "train=pd.DataFrame()\n",
        "train=train.assign(filename=Id)\n",
        "train.head()"
      ]
    },
    {
      "cell_type": "code",
      "execution_count": 10,
      "metadata": {
        "colab": {
          "base_uri": "https://localhost:8080/",
          "height": 206
        },
        "id": "z3vWlmI8uOle",
        "outputId": "1a82d9b0-1875-4833-d0da-04391895d909"
      },
      "outputs": [
        {
          "output_type": "execute_result",
          "data": {
            "text/plain": [
              "                                            filename  \\\n",
              "0  /content/mango-leaf-disease-dataset/Die Back/I...   \n",
              "1  /content/mango-leaf-disease-dataset/Die Back/2...   \n",
              "2  /content/mango-leaf-disease-dataset/Die Back/2...   \n",
              "3  /content/mango-leaf-disease-dataset/Die Back/2...   \n",
              "4  /content/mango-leaf-disease-dataset/Die Back/2...   \n",
              "\n",
              "                                       label  \n",
              "0  Die Back/IMG_20211027_194824 (Custom).jpg  \n",
              "1      Die Back/20211129_162141 (Custom).jpg  \n",
              "2      Die Back/20211129_160902 (Custom).jpg  \n",
              "3      Die Back/20211129_160923 (Custom).jpg  \n",
              "4      Die Back/20211129_162043 (Custom).jpg  "
            ],
            "text/html": [
              "\n",
              "  <div id=\"df-b8aa0d5b-f542-41db-9367-0aaaa89a9c63\">\n",
              "    <div class=\"colab-df-container\">\n",
              "      <div>\n",
              "<style scoped>\n",
              "    .dataframe tbody tr th:only-of-type {\n",
              "        vertical-align: middle;\n",
              "    }\n",
              "\n",
              "    .dataframe tbody tr th {\n",
              "        vertical-align: top;\n",
              "    }\n",
              "\n",
              "    .dataframe thead th {\n",
              "        text-align: right;\n",
              "    }\n",
              "</style>\n",
              "<table border=\"1\" class=\"dataframe\">\n",
              "  <thead>\n",
              "    <tr style=\"text-align: right;\">\n",
              "      <th></th>\n",
              "      <th>filename</th>\n",
              "      <th>label</th>\n",
              "    </tr>\n",
              "  </thead>\n",
              "  <tbody>\n",
              "    <tr>\n",
              "      <th>0</th>\n",
              "      <td>/content/mango-leaf-disease-dataset/Die Back/I...</td>\n",
              "      <td>Die Back/IMG_20211027_194824 (Custom).jpg</td>\n",
              "    </tr>\n",
              "    <tr>\n",
              "      <th>1</th>\n",
              "      <td>/content/mango-leaf-disease-dataset/Die Back/2...</td>\n",
              "      <td>Die Back/20211129_162141 (Custom).jpg</td>\n",
              "    </tr>\n",
              "    <tr>\n",
              "      <th>2</th>\n",
              "      <td>/content/mango-leaf-disease-dataset/Die Back/2...</td>\n",
              "      <td>Die Back/20211129_160902 (Custom).jpg</td>\n",
              "    </tr>\n",
              "    <tr>\n",
              "      <th>3</th>\n",
              "      <td>/content/mango-leaf-disease-dataset/Die Back/2...</td>\n",
              "      <td>Die Back/20211129_160923 (Custom).jpg</td>\n",
              "    </tr>\n",
              "    <tr>\n",
              "      <th>4</th>\n",
              "      <td>/content/mango-leaf-disease-dataset/Die Back/2...</td>\n",
              "      <td>Die Back/20211129_162043 (Custom).jpg</td>\n",
              "    </tr>\n",
              "  </tbody>\n",
              "</table>\n",
              "</div>\n",
              "      <button class=\"colab-df-convert\" onclick=\"convertToInteractive('df-b8aa0d5b-f542-41db-9367-0aaaa89a9c63')\"\n",
              "              title=\"Convert this dataframe to an interactive table.\"\n",
              "              style=\"display:none;\">\n",
              "        \n",
              "  <svg xmlns=\"http://www.w3.org/2000/svg\" height=\"24px\"viewBox=\"0 0 24 24\"\n",
              "       width=\"24px\">\n",
              "    <path d=\"M0 0h24v24H0V0z\" fill=\"none\"/>\n",
              "    <path d=\"M18.56 5.44l.94 2.06.94-2.06 2.06-.94-2.06-.94-.94-2.06-.94 2.06-2.06.94zm-11 1L8.5 8.5l.94-2.06 2.06-.94-2.06-.94L8.5 2.5l-.94 2.06-2.06.94zm10 10l.94 2.06.94-2.06 2.06-.94-2.06-.94-.94-2.06-.94 2.06-2.06.94z\"/><path d=\"M17.41 7.96l-1.37-1.37c-.4-.4-.92-.59-1.43-.59-.52 0-1.04.2-1.43.59L10.3 9.45l-7.72 7.72c-.78.78-.78 2.05 0 2.83L4 21.41c.39.39.9.59 1.41.59.51 0 1.02-.2 1.41-.59l7.78-7.78 2.81-2.81c.8-.78.8-2.07 0-2.86zM5.41 20L4 18.59l7.72-7.72 1.47 1.35L5.41 20z\"/>\n",
              "  </svg>\n",
              "      </button>\n",
              "      \n",
              "  <style>\n",
              "    .colab-df-container {\n",
              "      display:flex;\n",
              "      flex-wrap:wrap;\n",
              "      gap: 12px;\n",
              "    }\n",
              "\n",
              "    .colab-df-convert {\n",
              "      background-color: #E8F0FE;\n",
              "      border: none;\n",
              "      border-radius: 50%;\n",
              "      cursor: pointer;\n",
              "      display: none;\n",
              "      fill: #1967D2;\n",
              "      height: 32px;\n",
              "      padding: 0 0 0 0;\n",
              "      width: 32px;\n",
              "    }\n",
              "\n",
              "    .colab-df-convert:hover {\n",
              "      background-color: #E2EBFA;\n",
              "      box-shadow: 0px 1px 2px rgba(60, 64, 67, 0.3), 0px 1px 3px 1px rgba(60, 64, 67, 0.15);\n",
              "      fill: #174EA6;\n",
              "    }\n",
              "\n",
              "    [theme=dark] .colab-df-convert {\n",
              "      background-color: #3B4455;\n",
              "      fill: #D2E3FC;\n",
              "    }\n",
              "\n",
              "    [theme=dark] .colab-df-convert:hover {\n",
              "      background-color: #434B5C;\n",
              "      box-shadow: 0px 1px 3px 1px rgba(0, 0, 0, 0.15);\n",
              "      filter: drop-shadow(0px 1px 2px rgba(0, 0, 0, 0.3));\n",
              "      fill: #FFFFFF;\n",
              "    }\n",
              "  </style>\n",
              "\n",
              "      <script>\n",
              "        const buttonEl =\n",
              "          document.querySelector('#df-b8aa0d5b-f542-41db-9367-0aaaa89a9c63 button.colab-df-convert');\n",
              "        buttonEl.style.display =\n",
              "          google.colab.kernel.accessAllowed ? 'block' : 'none';\n",
              "\n",
              "        async function convertToInteractive(key) {\n",
              "          const element = document.querySelector('#df-b8aa0d5b-f542-41db-9367-0aaaa89a9c63');\n",
              "          const dataTable =\n",
              "            await google.colab.kernel.invokeFunction('convertToInteractive',\n",
              "                                                     [key], {});\n",
              "          if (!dataTable) return;\n",
              "\n",
              "          const docLinkHtml = 'Like what you see? Visit the ' +\n",
              "            '<a target=\"_blank\" href=https://colab.research.google.com/notebooks/data_table.ipynb>data table notebook</a>'\n",
              "            + ' to learn more about interactive tables.';\n",
              "          element.innerHTML = '';\n",
              "          dataTable['output_type'] = 'display_data';\n",
              "          await google.colab.output.renderOutput(dataTable, element);\n",
              "          const docLink = document.createElement('div');\n",
              "          docLink.innerHTML = docLinkHtml;\n",
              "          element.appendChild(docLink);\n",
              "        }\n",
              "      </script>\n",
              "    </div>\n",
              "  </div>\n",
              "  "
            ]
          },
          "metadata": {},
          "execution_count": 10
        }
      ],
      "source": [
        "train['label']=train['filename']\n",
        "train['label']=train['label'].str.replace('/content/mango-leaf-disease-dataset/','')\n",
        "train.head()\n"
      ]
    },
    {
      "cell_type": "code",
      "execution_count": 11,
      "metadata": {
        "colab": {
          "base_uri": "https://localhost:8080/"
        },
        "id": "apuaEWvJuP3Q",
        "outputId": "3d315c88-648d-4ed5-b188-0e02009a5eed"
      },
      "outputs": [
        {
          "output_type": "execute_result",
          "data": {
            "text/plain": [
              "0    Die Back/IMG_20211027_194824 (Custom).jpg\n",
              "1        Die Back/20211129_162141 (Custom).jpg\n",
              "2        Die Back/20211129_160902 (Custom).jpg\n",
              "3        Die Back/20211129_160923 (Custom).jpg\n",
              "4        Die Back/20211129_162043 (Custom).jpg\n",
              "Name: label, dtype: object"
            ]
          },
          "metadata": {},
          "execution_count": 11
        }
      ],
      "source": [
        "train['label'][:5]"
      ]
    },
    {
      "cell_type": "code",
      "execution_count": 12,
      "metadata": {
        "colab": {
          "base_uri": "https://localhost:8080/",
          "height": 206
        },
        "id": "njXU8Hj_uQ9f",
        "outputId": "0b929911-6bef-49c8-98a1-d6a6f8017bd3"
      },
      "outputs": [
        {
          "output_type": "execute_result",
          "data": {
            "text/plain": [
              "                                            filename     label\n",
              "0  /content/mango-leaf-disease-dataset/Die Back/I...  Die Back\n",
              "1  /content/mango-leaf-disease-dataset/Die Back/2...  Die Back\n",
              "2  /content/mango-leaf-disease-dataset/Die Back/2...  Die Back\n",
              "3  /content/mango-leaf-disease-dataset/Die Back/2...  Die Back\n",
              "4  /content/mango-leaf-disease-dataset/Die Back/2...  Die Back"
            ],
            "text/html": [
              "\n",
              "  <div id=\"df-5cf7b2d5-89e7-4239-ad69-be27696d0af3\">\n",
              "    <div class=\"colab-df-container\">\n",
              "      <div>\n",
              "<style scoped>\n",
              "    .dataframe tbody tr th:only-of-type {\n",
              "        vertical-align: middle;\n",
              "    }\n",
              "\n",
              "    .dataframe tbody tr th {\n",
              "        vertical-align: top;\n",
              "    }\n",
              "\n",
              "    .dataframe thead th {\n",
              "        text-align: right;\n",
              "    }\n",
              "</style>\n",
              "<table border=\"1\" class=\"dataframe\">\n",
              "  <thead>\n",
              "    <tr style=\"text-align: right;\">\n",
              "      <th></th>\n",
              "      <th>filename</th>\n",
              "      <th>label</th>\n",
              "    </tr>\n",
              "  </thead>\n",
              "  <tbody>\n",
              "    <tr>\n",
              "      <th>0</th>\n",
              "      <td>/content/mango-leaf-disease-dataset/Die Back/I...</td>\n",
              "      <td>Die Back</td>\n",
              "    </tr>\n",
              "    <tr>\n",
              "      <th>1</th>\n",
              "      <td>/content/mango-leaf-disease-dataset/Die Back/2...</td>\n",
              "      <td>Die Back</td>\n",
              "    </tr>\n",
              "    <tr>\n",
              "      <th>2</th>\n",
              "      <td>/content/mango-leaf-disease-dataset/Die Back/2...</td>\n",
              "      <td>Die Back</td>\n",
              "    </tr>\n",
              "    <tr>\n",
              "      <th>3</th>\n",
              "      <td>/content/mango-leaf-disease-dataset/Die Back/2...</td>\n",
              "      <td>Die Back</td>\n",
              "    </tr>\n",
              "    <tr>\n",
              "      <th>4</th>\n",
              "      <td>/content/mango-leaf-disease-dataset/Die Back/2...</td>\n",
              "      <td>Die Back</td>\n",
              "    </tr>\n",
              "  </tbody>\n",
              "</table>\n",
              "</div>\n",
              "      <button class=\"colab-df-convert\" onclick=\"convertToInteractive('df-5cf7b2d5-89e7-4239-ad69-be27696d0af3')\"\n",
              "              title=\"Convert this dataframe to an interactive table.\"\n",
              "              style=\"display:none;\">\n",
              "        \n",
              "  <svg xmlns=\"http://www.w3.org/2000/svg\" height=\"24px\"viewBox=\"0 0 24 24\"\n",
              "       width=\"24px\">\n",
              "    <path d=\"M0 0h24v24H0V0z\" fill=\"none\"/>\n",
              "    <path d=\"M18.56 5.44l.94 2.06.94-2.06 2.06-.94-2.06-.94-.94-2.06-.94 2.06-2.06.94zm-11 1L8.5 8.5l.94-2.06 2.06-.94-2.06-.94L8.5 2.5l-.94 2.06-2.06.94zm10 10l.94 2.06.94-2.06 2.06-.94-2.06-.94-.94-2.06-.94 2.06-2.06.94z\"/><path d=\"M17.41 7.96l-1.37-1.37c-.4-.4-.92-.59-1.43-.59-.52 0-1.04.2-1.43.59L10.3 9.45l-7.72 7.72c-.78.78-.78 2.05 0 2.83L4 21.41c.39.39.9.59 1.41.59.51 0 1.02-.2 1.41-.59l7.78-7.78 2.81-2.81c.8-.78.8-2.07 0-2.86zM5.41 20L4 18.59l7.72-7.72 1.47 1.35L5.41 20z\"/>\n",
              "  </svg>\n",
              "      </button>\n",
              "      \n",
              "  <style>\n",
              "    .colab-df-container {\n",
              "      display:flex;\n",
              "      flex-wrap:wrap;\n",
              "      gap: 12px;\n",
              "    }\n",
              "\n",
              "    .colab-df-convert {\n",
              "      background-color: #E8F0FE;\n",
              "      border: none;\n",
              "      border-radius: 50%;\n",
              "      cursor: pointer;\n",
              "      display: none;\n",
              "      fill: #1967D2;\n",
              "      height: 32px;\n",
              "      padding: 0 0 0 0;\n",
              "      width: 32px;\n",
              "    }\n",
              "\n",
              "    .colab-df-convert:hover {\n",
              "      background-color: #E2EBFA;\n",
              "      box-shadow: 0px 1px 2px rgba(60, 64, 67, 0.3), 0px 1px 3px 1px rgba(60, 64, 67, 0.15);\n",
              "      fill: #174EA6;\n",
              "    }\n",
              "\n",
              "    [theme=dark] .colab-df-convert {\n",
              "      background-color: #3B4455;\n",
              "      fill: #D2E3FC;\n",
              "    }\n",
              "\n",
              "    [theme=dark] .colab-df-convert:hover {\n",
              "      background-color: #434B5C;\n",
              "      box-shadow: 0px 1px 3px 1px rgba(0, 0, 0, 0.15);\n",
              "      filter: drop-shadow(0px 1px 2px rgba(0, 0, 0, 0.3));\n",
              "      fill: #FFFFFF;\n",
              "    }\n",
              "  </style>\n",
              "\n",
              "      <script>\n",
              "        const buttonEl =\n",
              "          document.querySelector('#df-5cf7b2d5-89e7-4239-ad69-be27696d0af3 button.colab-df-convert');\n",
              "        buttonEl.style.display =\n",
              "          google.colab.kernel.accessAllowed ? 'block' : 'none';\n",
              "\n",
              "        async function convertToInteractive(key) {\n",
              "          const element = document.querySelector('#df-5cf7b2d5-89e7-4239-ad69-be27696d0af3');\n",
              "          const dataTable =\n",
              "            await google.colab.kernel.invokeFunction('convertToInteractive',\n",
              "                                                     [key], {});\n",
              "          if (!dataTable) return;\n",
              "\n",
              "          const docLinkHtml = 'Like what you see? Visit the ' +\n",
              "            '<a target=\"_blank\" href=https://colab.research.google.com/notebooks/data_table.ipynb>data table notebook</a>'\n",
              "            + ' to learn more about interactive tables.';\n",
              "          element.innerHTML = '';\n",
              "          dataTable['output_type'] = 'display_data';\n",
              "          await google.colab.output.renderOutput(dataTable, element);\n",
              "          const docLink = document.createElement('div');\n",
              "          docLink.innerHTML = docLinkHtml;\n",
              "          element.appendChild(docLink);\n",
              "        }\n",
              "      </script>\n",
              "    </div>\n",
              "  </div>\n",
              "  "
            ]
          },
          "metadata": {},
          "execution_count": 12
        }
      ],
      "source": [
        "train['label'] = train['label'].str.split('/').str[0]\n",
        "train.head()"
      ]
    },
    {
      "cell_type": "code",
      "execution_count": 13,
      "metadata": {
        "colab": {
          "base_uri": "https://localhost:8080/"
        },
        "id": "p7rzXbOcuSJm",
        "outputId": "ea373f97-b0fb-46c1-c0c1-35eea5e40d65"
      },
      "outputs": [
        {
          "output_type": "execute_result",
          "data": {
            "text/plain": [
              "0     Die Back\n",
              "1     Die Back\n",
              "2     Die Back\n",
              "3     Die Back\n",
              "4     Die Back\n",
              "5     Die Back\n",
              "6     Die Back\n",
              "7     Die Back\n",
              "8     Die Back\n",
              "9     Die Back\n",
              "10    Die Back\n",
              "11    Die Back\n",
              "12    Die Back\n",
              "13    Die Back\n",
              "14    Die Back\n",
              "15    Die Back\n",
              "16    Die Back\n",
              "17    Die Back\n",
              "Name: label, dtype: object"
            ]
          },
          "metadata": {},
          "execution_count": 13
        }
      ],
      "source": [
        "train['label'][:18]"
      ]
    },
    {
      "cell_type": "code",
      "execution_count": 14,
      "metadata": {
        "colab": {
          "base_uri": "https://localhost:8080/",
          "height": 206
        },
        "id": "hP-57-a8uTbO",
        "outputId": "6e9cd1e4-7a24-40c7-d2ee-62638430863d"
      },
      "outputs": [
        {
          "output_type": "execute_result",
          "data": {
            "text/plain": [
              "                                            filename           label\n",
              "0  /content/mango-leaf-disease-dataset/Anthracnos...     Anthracnose\n",
              "1  /content/mango-leaf-disease-dataset/Cutting We...  Cutting Weevil\n",
              "2  /content/mango-leaf-disease-dataset/Die Back/2...        Die Back\n",
              "3  /content/mango-leaf-disease-dataset/Die Back/2...        Die Back\n",
              "4  /content/mango-leaf-disease-dataset/Healthy/20...         Healthy"
            ],
            "text/html": [
              "\n",
              "  <div id=\"df-fa2984c8-e2c2-494c-99e2-830179ca3d07\">\n",
              "    <div class=\"colab-df-container\">\n",
              "      <div>\n",
              "<style scoped>\n",
              "    .dataframe tbody tr th:only-of-type {\n",
              "        vertical-align: middle;\n",
              "    }\n",
              "\n",
              "    .dataframe tbody tr th {\n",
              "        vertical-align: top;\n",
              "    }\n",
              "\n",
              "    .dataframe thead th {\n",
              "        text-align: right;\n",
              "    }\n",
              "</style>\n",
              "<table border=\"1\" class=\"dataframe\">\n",
              "  <thead>\n",
              "    <tr style=\"text-align: right;\">\n",
              "      <th></th>\n",
              "      <th>filename</th>\n",
              "      <th>label</th>\n",
              "    </tr>\n",
              "  </thead>\n",
              "  <tbody>\n",
              "    <tr>\n",
              "      <th>0</th>\n",
              "      <td>/content/mango-leaf-disease-dataset/Anthracnos...</td>\n",
              "      <td>Anthracnose</td>\n",
              "    </tr>\n",
              "    <tr>\n",
              "      <th>1</th>\n",
              "      <td>/content/mango-leaf-disease-dataset/Cutting We...</td>\n",
              "      <td>Cutting Weevil</td>\n",
              "    </tr>\n",
              "    <tr>\n",
              "      <th>2</th>\n",
              "      <td>/content/mango-leaf-disease-dataset/Die Back/2...</td>\n",
              "      <td>Die Back</td>\n",
              "    </tr>\n",
              "    <tr>\n",
              "      <th>3</th>\n",
              "      <td>/content/mango-leaf-disease-dataset/Die Back/2...</td>\n",
              "      <td>Die Back</td>\n",
              "    </tr>\n",
              "    <tr>\n",
              "      <th>4</th>\n",
              "      <td>/content/mango-leaf-disease-dataset/Healthy/20...</td>\n",
              "      <td>Healthy</td>\n",
              "    </tr>\n",
              "  </tbody>\n",
              "</table>\n",
              "</div>\n",
              "      <button class=\"colab-df-convert\" onclick=\"convertToInteractive('df-fa2984c8-e2c2-494c-99e2-830179ca3d07')\"\n",
              "              title=\"Convert this dataframe to an interactive table.\"\n",
              "              style=\"display:none;\">\n",
              "        \n",
              "  <svg xmlns=\"http://www.w3.org/2000/svg\" height=\"24px\"viewBox=\"0 0 24 24\"\n",
              "       width=\"24px\">\n",
              "    <path d=\"M0 0h24v24H0V0z\" fill=\"none\"/>\n",
              "    <path d=\"M18.56 5.44l.94 2.06.94-2.06 2.06-.94-2.06-.94-.94-2.06-.94 2.06-2.06.94zm-11 1L8.5 8.5l.94-2.06 2.06-.94-2.06-.94L8.5 2.5l-.94 2.06-2.06.94zm10 10l.94 2.06.94-2.06 2.06-.94-2.06-.94-.94-2.06-.94 2.06-2.06.94z\"/><path d=\"M17.41 7.96l-1.37-1.37c-.4-.4-.92-.59-1.43-.59-.52 0-1.04.2-1.43.59L10.3 9.45l-7.72 7.72c-.78.78-.78 2.05 0 2.83L4 21.41c.39.39.9.59 1.41.59.51 0 1.02-.2 1.41-.59l7.78-7.78 2.81-2.81c.8-.78.8-2.07 0-2.86zM5.41 20L4 18.59l7.72-7.72 1.47 1.35L5.41 20z\"/>\n",
              "  </svg>\n",
              "      </button>\n",
              "      \n",
              "  <style>\n",
              "    .colab-df-container {\n",
              "      display:flex;\n",
              "      flex-wrap:wrap;\n",
              "      gap: 12px;\n",
              "    }\n",
              "\n",
              "    .colab-df-convert {\n",
              "      background-color: #E8F0FE;\n",
              "      border: none;\n",
              "      border-radius: 50%;\n",
              "      cursor: pointer;\n",
              "      display: none;\n",
              "      fill: #1967D2;\n",
              "      height: 32px;\n",
              "      padding: 0 0 0 0;\n",
              "      width: 32px;\n",
              "    }\n",
              "\n",
              "    .colab-df-convert:hover {\n",
              "      background-color: #E2EBFA;\n",
              "      box-shadow: 0px 1px 2px rgba(60, 64, 67, 0.3), 0px 1px 3px 1px rgba(60, 64, 67, 0.15);\n",
              "      fill: #174EA6;\n",
              "    }\n",
              "\n",
              "    [theme=dark] .colab-df-convert {\n",
              "      background-color: #3B4455;\n",
              "      fill: #D2E3FC;\n",
              "    }\n",
              "\n",
              "    [theme=dark] .colab-df-convert:hover {\n",
              "      background-color: #434B5C;\n",
              "      box-shadow: 0px 1px 3px 1px rgba(0, 0, 0, 0.15);\n",
              "      filter: drop-shadow(0px 1px 2px rgba(0, 0, 0, 0.3));\n",
              "      fill: #FFFFFF;\n",
              "    }\n",
              "  </style>\n",
              "\n",
              "      <script>\n",
              "        const buttonEl =\n",
              "          document.querySelector('#df-fa2984c8-e2c2-494c-99e2-830179ca3d07 button.colab-df-convert');\n",
              "        buttonEl.style.display =\n",
              "          google.colab.kernel.accessAllowed ? 'block' : 'none';\n",
              "\n",
              "        async function convertToInteractive(key) {\n",
              "          const element = document.querySelector('#df-fa2984c8-e2c2-494c-99e2-830179ca3d07');\n",
              "          const dataTable =\n",
              "            await google.colab.kernel.invokeFunction('convertToInteractive',\n",
              "                                                     [key], {});\n",
              "          if (!dataTable) return;\n",
              "\n",
              "          const docLinkHtml = 'Like what you see? Visit the ' +\n",
              "            '<a target=\"_blank\" href=https://colab.research.google.com/notebooks/data_table.ipynb>data table notebook</a>'\n",
              "            + ' to learn more about interactive tables.';\n",
              "          element.innerHTML = '';\n",
              "          dataTable['output_type'] = 'display_data';\n",
              "          await google.colab.output.renderOutput(dataTable, element);\n",
              "          const docLink = document.createElement('div');\n",
              "          docLink.innerHTML = docLinkHtml;\n",
              "          element.appendChild(docLink);\n",
              "        }\n",
              "      </script>\n",
              "    </div>\n",
              "  </div>\n",
              "  "
            ]
          },
          "metadata": {},
          "execution_count": 14
        }
      ],
      "source": [
        "train=train.sample(n=len(train))\n",
        "train.reset_index(inplace=True,drop=True)\n",
        "train.head()"
      ]
    },
    {
      "cell_type": "code",
      "execution_count": 15,
      "metadata": {
        "colab": {
          "base_uri": "https://localhost:8080/",
          "height": 206
        },
        "id": "4mhgveofuU3K",
        "outputId": "a52e6639-227d-4cac-c347-90a40a18ee12"
      },
      "outputs": [
        {
          "output_type": "execute_result",
          "data": {
            "text/plain": [
              "                                               filename             label\n",
              "3200  /content/mango-leaf-disease-dataset/Cutting We...    Cutting Weevil\n",
              "3201  /content/mango-leaf-disease-dataset/Cutting We...    Cutting Weevil\n",
              "3202  /content/mango-leaf-disease-dataset/Healthy/20...           Healthy\n",
              "3203  /content/mango-leaf-disease-dataset/Anthracnos...       Anthracnose\n",
              "3204  /content/mango-leaf-disease-dataset/Bacterial ...  Bacterial Canker"
            ],
            "text/html": [
              "\n",
              "  <div id=\"df-57962608-01ce-46a1-a58d-3a6d69823856\">\n",
              "    <div class=\"colab-df-container\">\n",
              "      <div>\n",
              "<style scoped>\n",
              "    .dataframe tbody tr th:only-of-type {\n",
              "        vertical-align: middle;\n",
              "    }\n",
              "\n",
              "    .dataframe tbody tr th {\n",
              "        vertical-align: top;\n",
              "    }\n",
              "\n",
              "    .dataframe thead th {\n",
              "        text-align: right;\n",
              "    }\n",
              "</style>\n",
              "<table border=\"1\" class=\"dataframe\">\n",
              "  <thead>\n",
              "    <tr style=\"text-align: right;\">\n",
              "      <th></th>\n",
              "      <th>filename</th>\n",
              "      <th>label</th>\n",
              "    </tr>\n",
              "  </thead>\n",
              "  <tbody>\n",
              "    <tr>\n",
              "      <th>3200</th>\n",
              "      <td>/content/mango-leaf-disease-dataset/Cutting We...</td>\n",
              "      <td>Cutting Weevil</td>\n",
              "    </tr>\n",
              "    <tr>\n",
              "      <th>3201</th>\n",
              "      <td>/content/mango-leaf-disease-dataset/Cutting We...</td>\n",
              "      <td>Cutting Weevil</td>\n",
              "    </tr>\n",
              "    <tr>\n",
              "      <th>3202</th>\n",
              "      <td>/content/mango-leaf-disease-dataset/Healthy/20...</td>\n",
              "      <td>Healthy</td>\n",
              "    </tr>\n",
              "    <tr>\n",
              "      <th>3203</th>\n",
              "      <td>/content/mango-leaf-disease-dataset/Anthracnos...</td>\n",
              "      <td>Anthracnose</td>\n",
              "    </tr>\n",
              "    <tr>\n",
              "      <th>3204</th>\n",
              "      <td>/content/mango-leaf-disease-dataset/Bacterial ...</td>\n",
              "      <td>Bacterial Canker</td>\n",
              "    </tr>\n",
              "  </tbody>\n",
              "</table>\n",
              "</div>\n",
              "      <button class=\"colab-df-convert\" onclick=\"convertToInteractive('df-57962608-01ce-46a1-a58d-3a6d69823856')\"\n",
              "              title=\"Convert this dataframe to an interactive table.\"\n",
              "              style=\"display:none;\">\n",
              "        \n",
              "  <svg xmlns=\"http://www.w3.org/2000/svg\" height=\"24px\"viewBox=\"0 0 24 24\"\n",
              "       width=\"24px\">\n",
              "    <path d=\"M0 0h24v24H0V0z\" fill=\"none\"/>\n",
              "    <path d=\"M18.56 5.44l.94 2.06.94-2.06 2.06-.94-2.06-.94-.94-2.06-.94 2.06-2.06.94zm-11 1L8.5 8.5l.94-2.06 2.06-.94-2.06-.94L8.5 2.5l-.94 2.06-2.06.94zm10 10l.94 2.06.94-2.06 2.06-.94-2.06-.94-.94-2.06-.94 2.06-2.06.94z\"/><path d=\"M17.41 7.96l-1.37-1.37c-.4-.4-.92-.59-1.43-.59-.52 0-1.04.2-1.43.59L10.3 9.45l-7.72 7.72c-.78.78-.78 2.05 0 2.83L4 21.41c.39.39.9.59 1.41.59.51 0 1.02-.2 1.41-.59l7.78-7.78 2.81-2.81c.8-.78.8-2.07 0-2.86zM5.41 20L4 18.59l7.72-7.72 1.47 1.35L5.41 20z\"/>\n",
              "  </svg>\n",
              "      </button>\n",
              "      \n",
              "  <style>\n",
              "    .colab-df-container {\n",
              "      display:flex;\n",
              "      flex-wrap:wrap;\n",
              "      gap: 12px;\n",
              "    }\n",
              "\n",
              "    .colab-df-convert {\n",
              "      background-color: #E8F0FE;\n",
              "      border: none;\n",
              "      border-radius: 50%;\n",
              "      cursor: pointer;\n",
              "      display: none;\n",
              "      fill: #1967D2;\n",
              "      height: 32px;\n",
              "      padding: 0 0 0 0;\n",
              "      width: 32px;\n",
              "    }\n",
              "\n",
              "    .colab-df-convert:hover {\n",
              "      background-color: #E2EBFA;\n",
              "      box-shadow: 0px 1px 2px rgba(60, 64, 67, 0.3), 0px 1px 3px 1px rgba(60, 64, 67, 0.15);\n",
              "      fill: #174EA6;\n",
              "    }\n",
              "\n",
              "    [theme=dark] .colab-df-convert {\n",
              "      background-color: #3B4455;\n",
              "      fill: #D2E3FC;\n",
              "    }\n",
              "\n",
              "    [theme=dark] .colab-df-convert:hover {\n",
              "      background-color: #434B5C;\n",
              "      box-shadow: 0px 1px 3px 1px rgba(0, 0, 0, 0.15);\n",
              "      filter: drop-shadow(0px 1px 2px rgba(0, 0, 0, 0.3));\n",
              "      fill: #FFFFFF;\n",
              "    }\n",
              "  </style>\n",
              "\n",
              "      <script>\n",
              "        const buttonEl =\n",
              "          document.querySelector('#df-57962608-01ce-46a1-a58d-3a6d69823856 button.colab-df-convert');\n",
              "        buttonEl.style.display =\n",
              "          google.colab.kernel.accessAllowed ? 'block' : 'none';\n",
              "\n",
              "        async function convertToInteractive(key) {\n",
              "          const element = document.querySelector('#df-57962608-01ce-46a1-a58d-3a6d69823856');\n",
              "          const dataTable =\n",
              "            await google.colab.kernel.invokeFunction('convertToInteractive',\n",
              "                                                     [key], {});\n",
              "          if (!dataTable) return;\n",
              "\n",
              "          const docLinkHtml = 'Like what you see? Visit the ' +\n",
              "            '<a target=\"_blank\" href=https://colab.research.google.com/notebooks/data_table.ipynb>data table notebook</a>'\n",
              "            + ' to learn more about interactive tables.';\n",
              "          element.innerHTML = '';\n",
              "          dataTable['output_type'] = 'display_data';\n",
              "          await google.colab.output.renderOutput(dataTable, element);\n",
              "          const docLink = document.createElement('div');\n",
              "          docLink.innerHTML = docLinkHtml;\n",
              "          element.appendChild(docLink);\n",
              "        }\n",
              "      </script>\n",
              "    </div>\n",
              "  </div>\n",
              "  "
            ]
          },
          "metadata": {},
          "execution_count": 15
        }
      ],
      "source": [
        "test=train[int(len(train)*.8):]\n",
        "test.head()\n"
      ]
    },
    {
      "cell_type": "code",
      "execution_count": 16,
      "metadata": {
        "colab": {
          "base_uri": "https://localhost:8080/",
          "height": 206
        },
        "id": "xtnwlRqtuV5H",
        "outputId": "c83e60a3-3268-4b9a-f149-738be56c8e1c"
      },
      "outputs": [
        {
          "output_type": "execute_result",
          "data": {
            "text/plain": [
              "                                            filename             label\n",
              "0  /content/mango-leaf-disease-dataset/Anthracnos...       Anthracnose\n",
              "1  /content/mango-leaf-disease-dataset/Bacterial ...  Bacterial Canker\n",
              "2  /content/mango-leaf-disease-dataset/Healthy/20...           Healthy\n",
              "3  /content/mango-leaf-disease-dataset/Gall Midge...        Gall Midge\n",
              "4  /content/mango-leaf-disease-dataset/Gall Midge...        Gall Midge"
            ],
            "text/html": [
              "\n",
              "  <div id=\"df-f9936f38-ae9d-489e-baca-5eb389fb0e3c\">\n",
              "    <div class=\"colab-df-container\">\n",
              "      <div>\n",
              "<style scoped>\n",
              "    .dataframe tbody tr th:only-of-type {\n",
              "        vertical-align: middle;\n",
              "    }\n",
              "\n",
              "    .dataframe tbody tr th {\n",
              "        vertical-align: top;\n",
              "    }\n",
              "\n",
              "    .dataframe thead th {\n",
              "        text-align: right;\n",
              "    }\n",
              "</style>\n",
              "<table border=\"1\" class=\"dataframe\">\n",
              "  <thead>\n",
              "    <tr style=\"text-align: right;\">\n",
              "      <th></th>\n",
              "      <th>filename</th>\n",
              "      <th>label</th>\n",
              "    </tr>\n",
              "  </thead>\n",
              "  <tbody>\n",
              "    <tr>\n",
              "      <th>0</th>\n",
              "      <td>/content/mango-leaf-disease-dataset/Anthracnos...</td>\n",
              "      <td>Anthracnose</td>\n",
              "    </tr>\n",
              "    <tr>\n",
              "      <th>1</th>\n",
              "      <td>/content/mango-leaf-disease-dataset/Bacterial ...</td>\n",
              "      <td>Bacterial Canker</td>\n",
              "    </tr>\n",
              "    <tr>\n",
              "      <th>2</th>\n",
              "      <td>/content/mango-leaf-disease-dataset/Healthy/20...</td>\n",
              "      <td>Healthy</td>\n",
              "    </tr>\n",
              "    <tr>\n",
              "      <th>3</th>\n",
              "      <td>/content/mango-leaf-disease-dataset/Gall Midge...</td>\n",
              "      <td>Gall Midge</td>\n",
              "    </tr>\n",
              "    <tr>\n",
              "      <th>4</th>\n",
              "      <td>/content/mango-leaf-disease-dataset/Gall Midge...</td>\n",
              "      <td>Gall Midge</td>\n",
              "    </tr>\n",
              "  </tbody>\n",
              "</table>\n",
              "</div>\n",
              "      <button class=\"colab-df-convert\" onclick=\"convertToInteractive('df-f9936f38-ae9d-489e-baca-5eb389fb0e3c')\"\n",
              "              title=\"Convert this dataframe to an interactive table.\"\n",
              "              style=\"display:none;\">\n",
              "        \n",
              "  <svg xmlns=\"http://www.w3.org/2000/svg\" height=\"24px\"viewBox=\"0 0 24 24\"\n",
              "       width=\"24px\">\n",
              "    <path d=\"M0 0h24v24H0V0z\" fill=\"none\"/>\n",
              "    <path d=\"M18.56 5.44l.94 2.06.94-2.06 2.06-.94-2.06-.94-.94-2.06-.94 2.06-2.06.94zm-11 1L8.5 8.5l.94-2.06 2.06-.94-2.06-.94L8.5 2.5l-.94 2.06-2.06.94zm10 10l.94 2.06.94-2.06 2.06-.94-2.06-.94-.94-2.06-.94 2.06-2.06.94z\"/><path d=\"M17.41 7.96l-1.37-1.37c-.4-.4-.92-.59-1.43-.59-.52 0-1.04.2-1.43.59L10.3 9.45l-7.72 7.72c-.78.78-.78 2.05 0 2.83L4 21.41c.39.39.9.59 1.41.59.51 0 1.02-.2 1.41-.59l7.78-7.78 2.81-2.81c.8-.78.8-2.07 0-2.86zM5.41 20L4 18.59l7.72-7.72 1.47 1.35L5.41 20z\"/>\n",
              "  </svg>\n",
              "      </button>\n",
              "      \n",
              "  <style>\n",
              "    .colab-df-container {\n",
              "      display:flex;\n",
              "      flex-wrap:wrap;\n",
              "      gap: 12px;\n",
              "    }\n",
              "\n",
              "    .colab-df-convert {\n",
              "      background-color: #E8F0FE;\n",
              "      border: none;\n",
              "      border-radius: 50%;\n",
              "      cursor: pointer;\n",
              "      display: none;\n",
              "      fill: #1967D2;\n",
              "      height: 32px;\n",
              "      padding: 0 0 0 0;\n",
              "      width: 32px;\n",
              "    }\n",
              "\n",
              "    .colab-df-convert:hover {\n",
              "      background-color: #E2EBFA;\n",
              "      box-shadow: 0px 1px 2px rgba(60, 64, 67, 0.3), 0px 1px 3px 1px rgba(60, 64, 67, 0.15);\n",
              "      fill: #174EA6;\n",
              "    }\n",
              "\n",
              "    [theme=dark] .colab-df-convert {\n",
              "      background-color: #3B4455;\n",
              "      fill: #D2E3FC;\n",
              "    }\n",
              "\n",
              "    [theme=dark] .colab-df-convert:hover {\n",
              "      background-color: #434B5C;\n",
              "      box-shadow: 0px 1px 3px 1px rgba(0, 0, 0, 0.15);\n",
              "      filter: drop-shadow(0px 1px 2px rgba(0, 0, 0, 0.3));\n",
              "      fill: #FFFFFF;\n",
              "    }\n",
              "  </style>\n",
              "\n",
              "      <script>\n",
              "        const buttonEl =\n",
              "          document.querySelector('#df-f9936f38-ae9d-489e-baca-5eb389fb0e3c button.colab-df-convert');\n",
              "        buttonEl.style.display =\n",
              "          google.colab.kernel.accessAllowed ? 'block' : 'none';\n",
              "\n",
              "        async function convertToInteractive(key) {\n",
              "          const element = document.querySelector('#df-f9936f38-ae9d-489e-baca-5eb389fb0e3c');\n",
              "          const dataTable =\n",
              "            await google.colab.kernel.invokeFunction('convertToInteractive',\n",
              "                                                     [key], {});\n",
              "          if (!dataTable) return;\n",
              "\n",
              "          const docLinkHtml = 'Like what you see? Visit the ' +\n",
              "            '<a target=\"_blank\" href=https://colab.research.google.com/notebooks/data_table.ipynb>data table notebook</a>'\n",
              "            + ' to learn more about interactive tables.';\n",
              "          element.innerHTML = '';\n",
              "          dataTable['output_type'] = 'display_data';\n",
              "          await google.colab.output.renderOutput(dataTable, element);\n",
              "          const docLink = document.createElement('div');\n",
              "          docLink.innerHTML = docLinkHtml;\n",
              "          element.appendChild(docLink);\n",
              "        }\n",
              "      </script>\n",
              "    </div>\n",
              "  </div>\n",
              "  "
            ]
          },
          "metadata": {},
          "execution_count": 16
        }
      ],
      "source": [
        "test=test.sample(n=len(test))\n",
        "test.reset_index(inplace=True,drop=True)\n",
        "test.head()"
      ]
    },
    {
      "cell_type": "code",
      "execution_count": 17,
      "metadata": {
        "colab": {
          "base_uri": "https://localhost:8080/",
          "height": 206
        },
        "id": "1XZ6ququuXLz",
        "outputId": "d117d8c1-d059-488f-aefc-42d797ec75df"
      },
      "outputs": [
        {
          "output_type": "execute_result",
          "data": {
            "text/plain": [
              "                                            filename           label\n",
              "0  /content/mango-leaf-disease-dataset/Anthracnos...     Anthracnose\n",
              "1  /content/mango-leaf-disease-dataset/Cutting We...  Cutting Weevil\n",
              "2  /content/mango-leaf-disease-dataset/Die Back/2...        Die Back\n",
              "3  /content/mango-leaf-disease-dataset/Die Back/2...        Die Back\n",
              "4  /content/mango-leaf-disease-dataset/Healthy/20...         Healthy"
            ],
            "text/html": [
              "\n",
              "  <div id=\"df-679525bc-00a2-46f2-9abc-6b18762b4cc1\">\n",
              "    <div class=\"colab-df-container\">\n",
              "      <div>\n",
              "<style scoped>\n",
              "    .dataframe tbody tr th:only-of-type {\n",
              "        vertical-align: middle;\n",
              "    }\n",
              "\n",
              "    .dataframe tbody tr th {\n",
              "        vertical-align: top;\n",
              "    }\n",
              "\n",
              "    .dataframe thead th {\n",
              "        text-align: right;\n",
              "    }\n",
              "</style>\n",
              "<table border=\"1\" class=\"dataframe\">\n",
              "  <thead>\n",
              "    <tr style=\"text-align: right;\">\n",
              "      <th></th>\n",
              "      <th>filename</th>\n",
              "      <th>label</th>\n",
              "    </tr>\n",
              "  </thead>\n",
              "  <tbody>\n",
              "    <tr>\n",
              "      <th>0</th>\n",
              "      <td>/content/mango-leaf-disease-dataset/Anthracnos...</td>\n",
              "      <td>Anthracnose</td>\n",
              "    </tr>\n",
              "    <tr>\n",
              "      <th>1</th>\n",
              "      <td>/content/mango-leaf-disease-dataset/Cutting We...</td>\n",
              "      <td>Cutting Weevil</td>\n",
              "    </tr>\n",
              "    <tr>\n",
              "      <th>2</th>\n",
              "      <td>/content/mango-leaf-disease-dataset/Die Back/2...</td>\n",
              "      <td>Die Back</td>\n",
              "    </tr>\n",
              "    <tr>\n",
              "      <th>3</th>\n",
              "      <td>/content/mango-leaf-disease-dataset/Die Back/2...</td>\n",
              "      <td>Die Back</td>\n",
              "    </tr>\n",
              "    <tr>\n",
              "      <th>4</th>\n",
              "      <td>/content/mango-leaf-disease-dataset/Healthy/20...</td>\n",
              "      <td>Healthy</td>\n",
              "    </tr>\n",
              "  </tbody>\n",
              "</table>\n",
              "</div>\n",
              "      <button class=\"colab-df-convert\" onclick=\"convertToInteractive('df-679525bc-00a2-46f2-9abc-6b18762b4cc1')\"\n",
              "              title=\"Convert this dataframe to an interactive table.\"\n",
              "              style=\"display:none;\">\n",
              "        \n",
              "  <svg xmlns=\"http://www.w3.org/2000/svg\" height=\"24px\"viewBox=\"0 0 24 24\"\n",
              "       width=\"24px\">\n",
              "    <path d=\"M0 0h24v24H0V0z\" fill=\"none\"/>\n",
              "    <path d=\"M18.56 5.44l.94 2.06.94-2.06 2.06-.94-2.06-.94-.94-2.06-.94 2.06-2.06.94zm-11 1L8.5 8.5l.94-2.06 2.06-.94-2.06-.94L8.5 2.5l-.94 2.06-2.06.94zm10 10l.94 2.06.94-2.06 2.06-.94-2.06-.94-.94-2.06-.94 2.06-2.06.94z\"/><path d=\"M17.41 7.96l-1.37-1.37c-.4-.4-.92-.59-1.43-.59-.52 0-1.04.2-1.43.59L10.3 9.45l-7.72 7.72c-.78.78-.78 2.05 0 2.83L4 21.41c.39.39.9.59 1.41.59.51 0 1.02-.2 1.41-.59l7.78-7.78 2.81-2.81c.8-.78.8-2.07 0-2.86zM5.41 20L4 18.59l7.72-7.72 1.47 1.35L5.41 20z\"/>\n",
              "  </svg>\n",
              "      </button>\n",
              "      \n",
              "  <style>\n",
              "    .colab-df-container {\n",
              "      display:flex;\n",
              "      flex-wrap:wrap;\n",
              "      gap: 12px;\n",
              "    }\n",
              "\n",
              "    .colab-df-convert {\n",
              "      background-color: #E8F0FE;\n",
              "      border: none;\n",
              "      border-radius: 50%;\n",
              "      cursor: pointer;\n",
              "      display: none;\n",
              "      fill: #1967D2;\n",
              "      height: 32px;\n",
              "      padding: 0 0 0 0;\n",
              "      width: 32px;\n",
              "    }\n",
              "\n",
              "    .colab-df-convert:hover {\n",
              "      background-color: #E2EBFA;\n",
              "      box-shadow: 0px 1px 2px rgba(60, 64, 67, 0.3), 0px 1px 3px 1px rgba(60, 64, 67, 0.15);\n",
              "      fill: #174EA6;\n",
              "    }\n",
              "\n",
              "    [theme=dark] .colab-df-convert {\n",
              "      background-color: #3B4455;\n",
              "      fill: #D2E3FC;\n",
              "    }\n",
              "\n",
              "    [theme=dark] .colab-df-convert:hover {\n",
              "      background-color: #434B5C;\n",
              "      box-shadow: 0px 1px 3px 1px rgba(0, 0, 0, 0.15);\n",
              "      filter: drop-shadow(0px 1px 2px rgba(0, 0, 0, 0.3));\n",
              "      fill: #FFFFFF;\n",
              "    }\n",
              "  </style>\n",
              "\n",
              "      <script>\n",
              "        const buttonEl =\n",
              "          document.querySelector('#df-679525bc-00a2-46f2-9abc-6b18762b4cc1 button.colab-df-convert');\n",
              "        buttonEl.style.display =\n",
              "          google.colab.kernel.accessAllowed ? 'block' : 'none';\n",
              "\n",
              "        async function convertToInteractive(key) {\n",
              "          const element = document.querySelector('#df-679525bc-00a2-46f2-9abc-6b18762b4cc1');\n",
              "          const dataTable =\n",
              "            await google.colab.kernel.invokeFunction('convertToInteractive',\n",
              "                                                     [key], {});\n",
              "          if (!dataTable) return;\n",
              "\n",
              "          const docLinkHtml = 'Like what you see? Visit the ' +\n",
              "            '<a target=\"_blank\" href=https://colab.research.google.com/notebooks/data_table.ipynb>data table notebook</a>'\n",
              "            + ' to learn more about interactive tables.';\n",
              "          element.innerHTML = '';\n",
              "          dataTable['output_type'] = 'display_data';\n",
              "          await google.colab.output.renderOutput(dataTable, element);\n",
              "          const docLink = document.createElement('div');\n",
              "          docLink.innerHTML = docLinkHtml;\n",
              "          element.appendChild(docLink);\n",
              "        }\n",
              "      </script>\n",
              "    </div>\n",
              "  </div>\n",
              "  "
            ]
          },
          "metadata": {},
          "execution_count": 17
        }
      ],
      "source": [
        "train=train[:int(len(train)*.8)]\n",
        "train.head()"
      ]
    },
    {
      "cell_type": "code",
      "execution_count": 18,
      "metadata": {
        "colab": {
          "base_uri": "https://localhost:8080/",
          "height": 206
        },
        "id": "PZ4Xyt71uYVh",
        "outputId": "32263af0-a521-427f-ce6f-318f2c7ee7b8"
      },
      "outputs": [
        {
          "output_type": "execute_result",
          "data": {
            "text/plain": [
              "                                            filename             label\n",
              "0  /content/mango-leaf-disease-dataset/Sooty Moul...       Sooty Mould\n",
              "1  /content/mango-leaf-disease-dataset/Bacterial ...  Bacterial Canker\n",
              "2  /content/mango-leaf-disease-dataset/Gall Midge...        Gall Midge\n",
              "3  /content/mango-leaf-disease-dataset/Healthy/20...           Healthy\n",
              "4  /content/mango-leaf-disease-dataset/Sooty Moul...       Sooty Mould"
            ],
            "text/html": [
              "\n",
              "  <div id=\"df-a2c7c3cc-3f63-47ff-800f-11abd93455c9\">\n",
              "    <div class=\"colab-df-container\">\n",
              "      <div>\n",
              "<style scoped>\n",
              "    .dataframe tbody tr th:only-of-type {\n",
              "        vertical-align: middle;\n",
              "    }\n",
              "\n",
              "    .dataframe tbody tr th {\n",
              "        vertical-align: top;\n",
              "    }\n",
              "\n",
              "    .dataframe thead th {\n",
              "        text-align: right;\n",
              "    }\n",
              "</style>\n",
              "<table border=\"1\" class=\"dataframe\">\n",
              "  <thead>\n",
              "    <tr style=\"text-align: right;\">\n",
              "      <th></th>\n",
              "      <th>filename</th>\n",
              "      <th>label</th>\n",
              "    </tr>\n",
              "  </thead>\n",
              "  <tbody>\n",
              "    <tr>\n",
              "      <th>0</th>\n",
              "      <td>/content/mango-leaf-disease-dataset/Sooty Moul...</td>\n",
              "      <td>Sooty Mould</td>\n",
              "    </tr>\n",
              "    <tr>\n",
              "      <th>1</th>\n",
              "      <td>/content/mango-leaf-disease-dataset/Bacterial ...</td>\n",
              "      <td>Bacterial Canker</td>\n",
              "    </tr>\n",
              "    <tr>\n",
              "      <th>2</th>\n",
              "      <td>/content/mango-leaf-disease-dataset/Gall Midge...</td>\n",
              "      <td>Gall Midge</td>\n",
              "    </tr>\n",
              "    <tr>\n",
              "      <th>3</th>\n",
              "      <td>/content/mango-leaf-disease-dataset/Healthy/20...</td>\n",
              "      <td>Healthy</td>\n",
              "    </tr>\n",
              "    <tr>\n",
              "      <th>4</th>\n",
              "      <td>/content/mango-leaf-disease-dataset/Sooty Moul...</td>\n",
              "      <td>Sooty Mould</td>\n",
              "    </tr>\n",
              "  </tbody>\n",
              "</table>\n",
              "</div>\n",
              "      <button class=\"colab-df-convert\" onclick=\"convertToInteractive('df-a2c7c3cc-3f63-47ff-800f-11abd93455c9')\"\n",
              "              title=\"Convert this dataframe to an interactive table.\"\n",
              "              style=\"display:none;\">\n",
              "        \n",
              "  <svg xmlns=\"http://www.w3.org/2000/svg\" height=\"24px\"viewBox=\"0 0 24 24\"\n",
              "       width=\"24px\">\n",
              "    <path d=\"M0 0h24v24H0V0z\" fill=\"none\"/>\n",
              "    <path d=\"M18.56 5.44l.94 2.06.94-2.06 2.06-.94-2.06-.94-.94-2.06-.94 2.06-2.06.94zm-11 1L8.5 8.5l.94-2.06 2.06-.94-2.06-.94L8.5 2.5l-.94 2.06-2.06.94zm10 10l.94 2.06.94-2.06 2.06-.94-2.06-.94-.94-2.06-.94 2.06-2.06.94z\"/><path d=\"M17.41 7.96l-1.37-1.37c-.4-.4-.92-.59-1.43-.59-.52 0-1.04.2-1.43.59L10.3 9.45l-7.72 7.72c-.78.78-.78 2.05 0 2.83L4 21.41c.39.39.9.59 1.41.59.51 0 1.02-.2 1.41-.59l7.78-7.78 2.81-2.81c.8-.78.8-2.07 0-2.86zM5.41 20L4 18.59l7.72-7.72 1.47 1.35L5.41 20z\"/>\n",
              "  </svg>\n",
              "      </button>\n",
              "      \n",
              "  <style>\n",
              "    .colab-df-container {\n",
              "      display:flex;\n",
              "      flex-wrap:wrap;\n",
              "      gap: 12px;\n",
              "    }\n",
              "\n",
              "    .colab-df-convert {\n",
              "      background-color: #E8F0FE;\n",
              "      border: none;\n",
              "      border-radius: 50%;\n",
              "      cursor: pointer;\n",
              "      display: none;\n",
              "      fill: #1967D2;\n",
              "      height: 32px;\n",
              "      padding: 0 0 0 0;\n",
              "      width: 32px;\n",
              "    }\n",
              "\n",
              "    .colab-df-convert:hover {\n",
              "      background-color: #E2EBFA;\n",
              "      box-shadow: 0px 1px 2px rgba(60, 64, 67, 0.3), 0px 1px 3px 1px rgba(60, 64, 67, 0.15);\n",
              "      fill: #174EA6;\n",
              "    }\n",
              "\n",
              "    [theme=dark] .colab-df-convert {\n",
              "      background-color: #3B4455;\n",
              "      fill: #D2E3FC;\n",
              "    }\n",
              "\n",
              "    [theme=dark] .colab-df-convert:hover {\n",
              "      background-color: #434B5C;\n",
              "      box-shadow: 0px 1px 3px 1px rgba(0, 0, 0, 0.15);\n",
              "      filter: drop-shadow(0px 1px 2px rgba(0, 0, 0, 0.3));\n",
              "      fill: #FFFFFF;\n",
              "    }\n",
              "  </style>\n",
              "\n",
              "      <script>\n",
              "        const buttonEl =\n",
              "          document.querySelector('#df-a2c7c3cc-3f63-47ff-800f-11abd93455c9 button.colab-df-convert');\n",
              "        buttonEl.style.display =\n",
              "          google.colab.kernel.accessAllowed ? 'block' : 'none';\n",
              "\n",
              "        async function convertToInteractive(key) {\n",
              "          const element = document.querySelector('#df-a2c7c3cc-3f63-47ff-800f-11abd93455c9');\n",
              "          const dataTable =\n",
              "            await google.colab.kernel.invokeFunction('convertToInteractive',\n",
              "                                                     [key], {});\n",
              "          if (!dataTable) return;\n",
              "\n",
              "          const docLinkHtml = 'Like what you see? Visit the ' +\n",
              "            '<a target=\"_blank\" href=https://colab.research.google.com/notebooks/data_table.ipynb>data table notebook</a>'\n",
              "            + ' to learn more about interactive tables.';\n",
              "          element.innerHTML = '';\n",
              "          dataTable['output_type'] = 'display_data';\n",
              "          await google.colab.output.renderOutput(dataTable, element);\n",
              "          const docLink = document.createElement('div');\n",
              "          docLink.innerHTML = docLinkHtml;\n",
              "          element.appendChild(docLink);\n",
              "        }\n",
              "      </script>\n",
              "    </div>\n",
              "  </div>\n",
              "  "
            ]
          },
          "metadata": {},
          "execution_count": 18
        }
      ],
      "source": [
        "train=train.sample(n=len(train))\n",
        "train.reset_index(inplace=True,drop=True)\n",
        "train.head()"
      ]
    },
    {
      "cell_type": "code",
      "execution_count": 19,
      "metadata": {
        "colab": {
          "base_uri": "https://localhost:8080/"
        },
        "id": "wkFzEsSKuZn6",
        "outputId": "699d6bfb-4c06-425b-f612-a060851ea9cf"
      },
      "outputs": [
        {
          "output_type": "execute_result",
          "data": {
            "text/plain": [
              "((3200, 2), (800, 2))"
            ]
          },
          "metadata": {},
          "execution_count": 19
        }
      ],
      "source": [
        "train.shape,test.shape"
      ]
    },
    {
      "cell_type": "code",
      "execution_count": 20,
      "metadata": {
        "colab": {
          "base_uri": "https://localhost:8080/",
          "height": 206
        },
        "id": "jJOvKpCrubHu",
        "outputId": "b12f6ea9-e301-45e2-e954-ffc5c9a647c6"
      },
      "outputs": [
        {
          "output_type": "execute_result",
          "data": {
            "text/plain": [
              "                                               filename        label\n",
              "1599  /content/mango-leaf-disease-dataset/Anthracnos...  Anthracnose\n",
              "2486  /content/mango-leaf-disease-dataset/Anthracnos...  Anthracnose\n",
              "358   /content/mango-leaf-disease-dataset/Anthracnos...  Anthracnose\n",
              "1614  /content/mango-leaf-disease-dataset/Anthracnos...  Anthracnose\n",
              "2490  /content/mango-leaf-disease-dataset/Anthracnos...  Anthracnose"
            ],
            "text/html": [
              "\n",
              "  <div id=\"df-50f2a49b-68e1-464a-8211-040e6abd72fb\">\n",
              "    <div class=\"colab-df-container\">\n",
              "      <div>\n",
              "<style scoped>\n",
              "    .dataframe tbody tr th:only-of-type {\n",
              "        vertical-align: middle;\n",
              "    }\n",
              "\n",
              "    .dataframe tbody tr th {\n",
              "        vertical-align: top;\n",
              "    }\n",
              "\n",
              "    .dataframe thead th {\n",
              "        text-align: right;\n",
              "    }\n",
              "</style>\n",
              "<table border=\"1\" class=\"dataframe\">\n",
              "  <thead>\n",
              "    <tr style=\"text-align: right;\">\n",
              "      <th></th>\n",
              "      <th>filename</th>\n",
              "      <th>label</th>\n",
              "    </tr>\n",
              "  </thead>\n",
              "  <tbody>\n",
              "    <tr>\n",
              "      <th>1599</th>\n",
              "      <td>/content/mango-leaf-disease-dataset/Anthracnos...</td>\n",
              "      <td>Anthracnose</td>\n",
              "    </tr>\n",
              "    <tr>\n",
              "      <th>2486</th>\n",
              "      <td>/content/mango-leaf-disease-dataset/Anthracnos...</td>\n",
              "      <td>Anthracnose</td>\n",
              "    </tr>\n",
              "    <tr>\n",
              "      <th>358</th>\n",
              "      <td>/content/mango-leaf-disease-dataset/Anthracnos...</td>\n",
              "      <td>Anthracnose</td>\n",
              "    </tr>\n",
              "    <tr>\n",
              "      <th>1614</th>\n",
              "      <td>/content/mango-leaf-disease-dataset/Anthracnos...</td>\n",
              "      <td>Anthracnose</td>\n",
              "    </tr>\n",
              "    <tr>\n",
              "      <th>2490</th>\n",
              "      <td>/content/mango-leaf-disease-dataset/Anthracnos...</td>\n",
              "      <td>Anthracnose</td>\n",
              "    </tr>\n",
              "  </tbody>\n",
              "</table>\n",
              "</div>\n",
              "      <button class=\"colab-df-convert\" onclick=\"convertToInteractive('df-50f2a49b-68e1-464a-8211-040e6abd72fb')\"\n",
              "              title=\"Convert this dataframe to an interactive table.\"\n",
              "              style=\"display:none;\">\n",
              "        \n",
              "  <svg xmlns=\"http://www.w3.org/2000/svg\" height=\"24px\"viewBox=\"0 0 24 24\"\n",
              "       width=\"24px\">\n",
              "    <path d=\"M0 0h24v24H0V0z\" fill=\"none\"/>\n",
              "    <path d=\"M18.56 5.44l.94 2.06.94-2.06 2.06-.94-2.06-.94-.94-2.06-.94 2.06-2.06.94zm-11 1L8.5 8.5l.94-2.06 2.06-.94-2.06-.94L8.5 2.5l-.94 2.06-2.06.94zm10 10l.94 2.06.94-2.06 2.06-.94-2.06-.94-.94-2.06-.94 2.06-2.06.94z\"/><path d=\"M17.41 7.96l-1.37-1.37c-.4-.4-.92-.59-1.43-.59-.52 0-1.04.2-1.43.59L10.3 9.45l-7.72 7.72c-.78.78-.78 2.05 0 2.83L4 21.41c.39.39.9.59 1.41.59.51 0 1.02-.2 1.41-.59l7.78-7.78 2.81-2.81c.8-.78.8-2.07 0-2.86zM5.41 20L4 18.59l7.72-7.72 1.47 1.35L5.41 20z\"/>\n",
              "  </svg>\n",
              "      </button>\n",
              "      \n",
              "  <style>\n",
              "    .colab-df-container {\n",
              "      display:flex;\n",
              "      flex-wrap:wrap;\n",
              "      gap: 12px;\n",
              "    }\n",
              "\n",
              "    .colab-df-convert {\n",
              "      background-color: #E8F0FE;\n",
              "      border: none;\n",
              "      border-radius: 50%;\n",
              "      cursor: pointer;\n",
              "      display: none;\n",
              "      fill: #1967D2;\n",
              "      height: 32px;\n",
              "      padding: 0 0 0 0;\n",
              "      width: 32px;\n",
              "    }\n",
              "\n",
              "    .colab-df-convert:hover {\n",
              "      background-color: #E2EBFA;\n",
              "      box-shadow: 0px 1px 2px rgba(60, 64, 67, 0.3), 0px 1px 3px 1px rgba(60, 64, 67, 0.15);\n",
              "      fill: #174EA6;\n",
              "    }\n",
              "\n",
              "    [theme=dark] .colab-df-convert {\n",
              "      background-color: #3B4455;\n",
              "      fill: #D2E3FC;\n",
              "    }\n",
              "\n",
              "    [theme=dark] .colab-df-convert:hover {\n",
              "      background-color: #434B5C;\n",
              "      box-shadow: 0px 1px 3px 1px rgba(0, 0, 0, 0.15);\n",
              "      filter: drop-shadow(0px 1px 2px rgba(0, 0, 0, 0.3));\n",
              "      fill: #FFFFFF;\n",
              "    }\n",
              "  </style>\n",
              "\n",
              "      <script>\n",
              "        const buttonEl =\n",
              "          document.querySelector('#df-50f2a49b-68e1-464a-8211-040e6abd72fb button.colab-df-convert');\n",
              "        buttonEl.style.display =\n",
              "          google.colab.kernel.accessAllowed ? 'block' : 'none';\n",
              "\n",
              "        async function convertToInteractive(key) {\n",
              "          const element = document.querySelector('#df-50f2a49b-68e1-464a-8211-040e6abd72fb');\n",
              "          const dataTable =\n",
              "            await google.colab.kernel.invokeFunction('convertToInteractive',\n",
              "                                                     [key], {});\n",
              "          if (!dataTable) return;\n",
              "\n",
              "          const docLinkHtml = 'Like what you see? Visit the ' +\n",
              "            '<a target=\"_blank\" href=https://colab.research.google.com/notebooks/data_table.ipynb>data table notebook</a>'\n",
              "            + ' to learn more about interactive tables.';\n",
              "          element.innerHTML = '';\n",
              "          dataTable['output_type'] = 'display_data';\n",
              "          await google.colab.output.renderOutput(dataTable, element);\n",
              "          const docLink = document.createElement('div');\n",
              "          docLink.innerHTML = docLinkHtml;\n",
              "          element.appendChild(docLink);\n",
              "        }\n",
              "      </script>\n",
              "    </div>\n",
              "  </div>\n",
              "  "
            ]
          },
          "metadata": {},
          "execution_count": 20
        }
      ],
      "source": [
        "labels = train.sort_values('label')\n",
        "labels.head()"
      ]
    },
    {
      "cell_type": "code",
      "execution_count": 21,
      "metadata": {
        "colab": {
          "base_uri": "https://localhost:8080/"
        },
        "id": "3M8BnWkcueYI",
        "outputId": "f509d851-55e6-431f-9686-c2a6b4ee1f32"
      },
      "outputs": [
        {
          "output_type": "execute_result",
          "data": {
            "text/plain": [
              "['Anthracnose',\n",
              " 'Bacterial Canker',\n",
              " 'Cutting Weevil',\n",
              " 'Die Back',\n",
              " 'Gall Midge',\n",
              " 'Healthy',\n",
              " 'Powdery Mildew',\n",
              " 'Sooty Mould']"
            ]
          },
          "metadata": {},
          "execution_count": 21
        }
      ],
      "source": [
        "class_names = list(labels.label.unique())\n",
        "class_names[:8]"
      ]
    },
    {
      "cell_type": "code",
      "execution_count": 22,
      "metadata": {
        "id": "gjCLvz9nufch"
      },
      "outputs": [],
      "source": [
        "newpath = r'./train' \n",
        "if not os.path.exists(newpath):\n",
        "    os.makedirs(newpath)"
      ]
    },
    {
      "cell_type": "code",
      "execution_count": 23,
      "metadata": {
        "id": "_ozmpUUtugi6"
      },
      "outputs": [],
      "source": [
        "import shutil, os\n",
        "#creating subfolders\n",
        "for c in class_names:\n",
        "    dest =  r'./train/'+str(c)\n",
        "    os.makedirs(dest)\n",
        "    for i in list(labels[labels['label']==c]['filename']): # Image Id\n",
        "        get_image = os.path.join('/content/mango-leaf-disease-dataset', i) # Path to Images \n",
        "        move_image_to_cat = shutil.copy(get_image, dest)"
      ]
    },
    {
      "cell_type": "code",
      "execution_count": 24,
      "metadata": {
        "id": "6cBWjPdluiTN"
      },
      "outputs": [],
      "source": [
        "newpath = r'./test' \n",
        "if not os.path.exists(newpath):\n",
        "    os.makedirs(newpath)"
      ]
    },
    {
      "cell_type": "code",
      "execution_count": 25,
      "metadata": {
        "id": "tA115FL6ujaU"
      },
      "outputs": [],
      "source": [
        "for c in class_names:\n",
        "    dest =  r'./test/'+str(c)\n",
        "    os.makedirs(dest)\n",
        "    for i in list(test[test['label']==c]['filename']): # Image Id\n",
        "        get_image = os.path.join('/content/mango-leaf-disease-dataset', i) # Path to Images \n",
        "        move_image_to_cat = shutil.copy(get_image, dest)"
      ]
    },
    {
      "cell_type": "code",
      "execution_count": 26,
      "metadata": {
        "id": "v7rAXKLvuk0s"
      },
      "outputs": [],
      "source": [
        "train.to_csv('./train.csv',index=False)\n",
        "test.to_csv('./test.csv',index=False)"
      ]
    },
    {
      "cell_type": "code",
      "execution_count": 27,
      "metadata": {
        "colab": {
          "base_uri": "https://localhost:8080/"
        },
        "id": "JY1zCDXEumBg",
        "outputId": "a387281f-6110-4dad-93da-348a7e09e295"
      },
      "outputs": [
        {
          "output_type": "execute_result",
          "data": {
            "text/plain": [
              "3200"
            ]
          },
          "metadata": {},
          "execution_count": 27
        }
      ],
      "source": [
        "len(train)"
      ]
    },
    {
      "cell_type": "code",
      "execution_count": 28,
      "metadata": {
        "colab": {
          "base_uri": "https://localhost:8080/"
        },
        "id": "DpzBYdI62ZEg",
        "outputId": "55d94b4d-fcfa-4599-aac6-15a628121100"
      },
      "outputs": [
        {
          "output_type": "execute_result",
          "data": {
            "text/plain": [
              "filename    0\n",
              "label       0\n",
              "dtype: int64"
            ]
          },
          "metadata": {},
          "execution_count": 28
        }
      ],
      "source": [
        "train\n",
        "# Check for missing values\n",
        "train.isnull().sum()"
      ]
    },
    {
      "cell_type": "markdown",
      "metadata": {
        "id": "FQBWE2R3pMlO"
      },
      "source": [
        "###CNN"
      ]
    },
    {
      "cell_type": "code",
      "execution_count": 30,
      "metadata": {
        "id": "R6YmFXdkpeoK"
      },
      "outputs": [],
      "source": [
        "import numpy as np\n",
        "from tensorflow.keras.preprocessing.image import load_img, img_to_array\n",
        "from sklearn.model_selection import train_test_split\n",
        "\n",
        "# read images from file paths and convert them into numpy arrays\n",
        "IMAGE_SIZE = 224\n",
        "CHANNELS=3\n",
        "\n",
        "X = np.zeros((len(train), IMAGE_SIZE, IMAGE_SIZE, CHANNELS), dtype=np.uint8)\n",
        "for i, filepath in enumerate(train['filename']):\n",
        "    img = load_img(filepath, target_size=(IMAGE_SIZE, IMAGE_SIZE))\n",
        "    X[i] = img_to_array(img)\n",
        "\n",
        "# extract labels\n",
        "y = train['label'].values\n",
        "\n",
        "# split data into training and testing sets\n",
        "X_train, X_val, y_train, y_val = train_test_split(X, y, test_size=0.2, random_state=42)\n"
      ]
    },
    {
      "cell_type": "code",
      "source": [
        "# read test images and convert them into numpy arrays\n",
        "X_test = np.zeros((len(test), IMAGE_SIZE, IMAGE_SIZE, CHANNELS), dtype=np.uint8)\n",
        "for i, filepath in enumerate(test['filename']):\n",
        "    img = load_img(filepath, target_size=(IMAGE_SIZE, IMAGE_SIZE))\n",
        "    X_test[i] = img_to_array(img)\n",
        "\n",
        "# extract test labels\n",
        "y_test = test['label'].values\n"
      ],
      "metadata": {
        "id": "gFijWkknYCah"
      },
      "execution_count": 31,
      "outputs": []
    },
    {
      "cell_type": "code",
      "execution_count": 32,
      "metadata": {
        "id": "b0V6bPStqAjO"
      },
      "outputs": [],
      "source": [
        "from tensorflow.keras.utils import to_categorical\n",
        "from sklearn.preprocessing import LabelEncoder\n",
        "NUM_CLASSES=8\n",
        "\n",
        "le = LabelEncoder()\n",
        "y_train = le.fit_transform(y_train)\n",
        "y_val = le.transform(y_val)\n",
        "y_test = le.transform(y_test)\n",
        "\n",
        "y_train = to_categorical(y_train, num_classes=NUM_CLASSES)\n",
        "y_val = to_categorical(y_val, num_classes=NUM_CLASSES)\n",
        "y_test = to_categorical(y_test, num_classes=NUM_CLASSES)\n"
      ]
    },
    {
      "cell_type": "code",
      "execution_count": 33,
      "metadata": {
        "id": "QGOXA2XJI623",
        "colab": {
          "base_uri": "https://localhost:8080/"
        },
        "outputId": "93f0716d-188d-4181-eb29-bfead1d885b6"
      },
      "outputs": [
        {
          "output_type": "stream",
          "name": "stdout",
          "text": [
            "Model: \"sequential\"\n",
            "_________________________________________________________________\n",
            " Layer (type)                Output Shape              Param #   \n",
            "=================================================================\n",
            " conv2d (Conv2D)             (None, 222, 222, 32)      896       \n",
            "                                                                 \n",
            " max_pooling2d (MaxPooling2D  (None, 111, 111, 32)     0         \n",
            " )                                                               \n",
            "                                                                 \n",
            " conv2d_1 (Conv2D)           (None, 109, 109, 64)      18496     \n",
            "                                                                 \n",
            " max_pooling2d_1 (MaxPooling  (None, 54, 54, 64)       0         \n",
            " 2D)                                                             \n",
            "                                                                 \n",
            " conv2d_2 (Conv2D)           (None, 52, 52, 128)       73856     \n",
            "                                                                 \n",
            " max_pooling2d_2 (MaxPooling  (None, 26, 26, 128)      0         \n",
            " 2D)                                                             \n",
            "                                                                 \n",
            " flatten (Flatten)           (None, 86528)             0         \n",
            "                                                                 \n",
            " dense (Dense)               (None, 128)               11075712  \n",
            "                                                                 \n",
            " dropout (Dropout)           (None, 128)               0         \n",
            "                                                                 \n",
            " dense_1 (Dense)             (None, 8)                 1032      \n",
            "                                                                 \n",
            "=================================================================\n",
            "Total params: 11,169,992\n",
            "Trainable params: 11,169,992\n",
            "Non-trainable params: 0\n",
            "_________________________________________________________________\n",
            "Epoch 1/5\n",
            "80/80 [==============================] - 12s 21ms/step - loss: 16.8989 - accuracy: 0.1270 - val_loss: 2.0795 - val_accuracy: 0.1125\n",
            "Epoch 2/5\n",
            "80/80 [==============================] - 1s 17ms/step - loss: 2.0795 - accuracy: 0.1316 - val_loss: 2.0798 - val_accuracy: 0.1125\n",
            "Epoch 3/5\n",
            "80/80 [==============================] - 1s 17ms/step - loss: 2.0794 - accuracy: 0.1316 - val_loss: 2.0799 - val_accuracy: 0.1125\n",
            "Epoch 4/5\n",
            "80/80 [==============================] - 1s 17ms/step - loss: 2.0794 - accuracy: 0.1316 - val_loss: 2.0801 - val_accuracy: 0.1125\n",
            "Epoch 5/5\n",
            "80/80 [==============================] - 1s 17ms/step - loss: 2.0793 - accuracy: 0.1316 - val_loss: 2.0802 - val_accuracy: 0.1125\n"
          ]
        }
      ],
      "source": [
        "import tensorflow as tf\n",
        "from tensorflow.keras.models import Sequential\n",
        "from tensorflow.keras.layers import Conv2D, MaxPooling2D, Flatten, Dense, Dropout\n",
        "\n",
        "# Define the input shape of the model\n",
        "IMAGE_SIZE = 224\n",
        "\n",
        "# Define the CNN model architecture\n",
        "model = Sequential([\n",
        "    Conv2D(32, (3, 3), activation='relu', input_shape=(IMAGE_SIZE, IMAGE_SIZE, CHANNELS)),\n",
        "    MaxPooling2D((2, 2)),\n",
        "    Conv2D(64, (3, 3), activation='relu'),\n",
        "    MaxPooling2D((2, 2)),\n",
        "    Conv2D(128, (3, 3), activation='relu'),\n",
        "    MaxPooling2D((2, 2)),\n",
        "    Flatten(),\n",
        "    Dense(128, activation='relu'),\n",
        "    Dropout(0.5),\n",
        "    Dense(NUM_CLASSES, activation='softmax')\n",
        "])\n",
        "\n",
        "# Compile the model with appropriate loss, optimizer and metrics\n",
        "model.compile(optimizer='adam',\n",
        "              loss='categorical_crossentropy',\n",
        "              metrics=['accuracy'])\n",
        "\n",
        "# Print the summary of the model\n",
        "model.summary()\n",
        "\n",
        "# Train the model on the training data\n",
        "history = model.fit(X_train, y_train, epochs=5, validation_data=(X_val, y_val))\n"
      ]
    },
    {
      "cell_type": "code",
      "source": [
        "# Evaluate the model on the test data\n",
        "loss, accuracy = model.evaluate(X_test, y_test)\n"
      ],
      "metadata": {
        "colab": {
          "base_uri": "https://localhost:8080/"
        },
        "id": "kpOewC3KXy2w",
        "outputId": "adda4d1f-b0ac-413a-c9ac-1e1e475d9f16"
      },
      "execution_count": 34,
      "outputs": [
        {
          "output_type": "stream",
          "name": "stdout",
          "text": [
            "25/25 [==============================] - 0s 6ms/step - loss: 2.0803 - accuracy: 0.1138\n",
            "Test accuracy: 0.11375000327825546\n"
          ]
        }
      ]
    },
    {
      "cell_type": "code",
      "source": [
        "print('Test accuracy:', accuracy)\n",
        "print('Model loss:', loss)"
      ],
      "metadata": {
        "colab": {
          "base_uri": "https://localhost:8080/"
        },
        "id": "4HLNyHTVbijg",
        "outputId": "46b7717f-358c-4b07-9f65-271930d0fc9c"
      },
      "execution_count": 54,
      "outputs": [
        {
          "output_type": "stream",
          "name": "stdout",
          "text": [
            "Test accuracy: 0.11375000327825546\n",
            "Model loss: 2.0802786350250244\n"
          ]
        }
      ]
    },
    {
      "cell_type": "markdown",
      "metadata": {
        "id": "3ljCjQ3DI7rt"
      },
      "source": [
        "###My Contibution to CNN"
      ]
    },
    {
      "cell_type": "code",
      "execution_count": 35,
      "metadata": {
        "id": "XE90Fv7cI65L"
      },
      "outputs": [],
      "source": [
        "\n",
        "import numpy as np\n",
        "import pandas as pd\n",
        "import tensorflow as tf\n",
        "import matplotlib.pyplot as plt\n",
        "import tensorflow as tf\n",
        "from tensorflow import keras\n",
        "from keras import layers, Sequential, models\n",
        "import pathlib"
      ]
    },
    {
      "cell_type": "code",
      "execution_count": 37,
      "metadata": {
        "colab": {
          "base_uri": "https://localhost:8080/"
        },
        "id": "wYzrzVNBI6__",
        "outputId": "7387604e-6932-4e7b-ff66-b66c5c5971b4"
      },
      "outputs": [
        {
          "output_type": "stream",
          "name": "stdout",
          "text": [
            "Found 4000 files belonging to 8 classes.\n"
          ]
        }
      ],
      "source": [
        "BATCH_SIZE=32\n",
        "dataset = tf.keras.preprocessing.image_dataset_from_directory(\n",
        "    \"/content/mango-leaf-disease-dataset\",\n",
        "    seed=12,\n",
        "    shuffle=True,\n",
        "    image_size=(IMAGE_SIZE,IMAGE_SIZE),\n",
        "    batch_size=BATCH_SIZE\n",
        ")"
      ]
    },
    {
      "cell_type": "code",
      "execution_count": 38,
      "metadata": {
        "colab": {
          "base_uri": "https://localhost:8080/"
        },
        "id": "5RNB7uNEI7By",
        "outputId": "5be854e9-12df-4c7c-fad3-adc72a10322d"
      },
      "outputs": [
        {
          "output_type": "execute_result",
          "data": {
            "text/plain": [
              "['Anthracnose',\n",
              " 'Bacterial Canker',\n",
              " 'Cutting Weevil',\n",
              " 'Die Back',\n",
              " 'Gall Midge',\n",
              " 'Healthy',\n",
              " 'Powdery Mildew',\n",
              " 'Sooty Mould']"
            ]
          },
          "metadata": {},
          "execution_count": 38
        }
      ],
      "source": [
        "class_names = dataset.class_names\n",
        "class_names"
      ]
    },
    {
      "cell_type": "code",
      "execution_count": 39,
      "metadata": {
        "id": "chtU-pROI7Gd"
      },
      "outputs": [],
      "source": [
        "def get_dataset_partitions_tf(ds, train_split=0.8, val_split=0.1, test_split=0.1, shuffle=True, shuffle_size=10000):\n",
        "    assert (train_split + test_split + val_split) == 1\n",
        "\n",
        "    # Get dataset size\n",
        "    ds_size = ds.cardinality().numpy()\n",
        "    \n",
        "    # Shuffle the dataset\n",
        "    if shuffle:\n",
        "        ds = ds.shuffle(buffer_size=shuffle_size, seed=12, reshuffle_each_iteration=True)\n",
        "\n",
        "    # Compute dataset sizes for train, validation, and test sets\n",
        "    train_size = int(ds_size * train_split)\n",
        "    val_size = int(ds_size * val_split)\n",
        "    test_size = ds_size - train_size - val_size\n",
        "\n",
        "    # Split the dataset into train, validation, and test sets\n",
        "    train_ds = ds.take(train_size)\n",
        "    val_ds = ds.skip(train_size).take(val_size)\n",
        "    test_ds = ds.skip(train_size + val_size).take(test_size)\n",
        "\n",
        "    return train_ds, val_ds, test_ds"
      ]
    },
    {
      "cell_type": "code",
      "execution_count": 40,
      "metadata": {
        "id": "3jnza9wpI7Ii"
      },
      "outputs": [],
      "source": [
        "train_ds, val_ds, test_ds = get_dataset_partitions_tf(dataset)"
      ]
    },
    {
      "cell_type": "code",
      "execution_count": 41,
      "metadata": {
        "id": "RGuO52h9lY32"
      },
      "outputs": [],
      "source": [
        "data_augmentation = tf.keras.Sequential([\n",
        "  layers.RandomFlip(\"horizontal_and_vertical\"),\n",
        "  layers.RandomRotation(0.2),\n",
        "])\n",
        "\n",
        "train_ds = train_ds.map(\n",
        "    lambda x, y: (data_augmentation(x, training=True), y)\n",
        ").prefetch(buffer_size=tf.data.AUTOTUNE)\n",
        "\n",
        "val_ds = val_ds.prefetch(tf.data.AUTOTUNE)\n",
        "\n",
        "test_ds = test_ds.prefetch(tf.data.AUTOTUNE)"
      ]
    },
    {
      "cell_type": "code",
      "execution_count": 44,
      "metadata": {
        "id": "3GRkzzPNlY57"
      },
      "outputs": [],
      "source": [
        "EPOCHS=3\n",
        "input_shape = (BATCH_SIZE, IMAGE_SIZE, IMAGE_SIZE, CHANNELS)\n",
        "n_classes = 8\n",
        "\n",
        "resize_image = tf.keras.Sequential([\n",
        "  layers.Resizing(IMAGE_SIZE, IMAGE_SIZE),\n",
        "  layers.Rescaling(1./255)\n",
        "  ])"
      ]
    },
    {
      "cell_type": "code",
      "source": [
        "from tensorflow.keras.callbacks import EarlyStopping\n",
        "\n",
        "early_stop = EarlyStopping(monitor='val_loss', patience=3)\n",
        "\n",
        "my_model = models.Sequential([\n",
        "    resize_image,\n",
        "    layers.Conv2D(32, kernel_size = (3,3), activation='relu', input_shape=input_shape),\n",
        "    layers.MaxPooling2D((2, 2)),\n",
        "    layers.Conv2D(64,  kernel_size = (3,3), activation='tanh'),\n",
        "    layers.MaxPooling2D((2, 2)),\n",
        "    layers.Conv2D(64,  kernel_size = (3,3), activation='relu'),\n",
        "    layers.MaxPooling2D((2, 2)),\n",
        "    layers.Conv2D(64, (3, 3), activation='tanh'),\n",
        "    layers.MaxPooling2D((2, 2)),\n",
        "    layers.Flatten(),\n",
        "    layers.Dropout(0.2),\n",
        "    layers.Dense(64, activation='relu'),\n",
        "    layers.Dropout(0.2),\n",
        "    layers.Dense(n_classes, activation='softmax'),\n",
        "])\n",
        "my_model.build(input_shape=input_shape)"
      ],
      "metadata": {
        "id": "_aTXtTC-5yOC"
      },
      "execution_count": 43,
      "outputs": []
    },
    {
      "cell_type": "code",
      "execution_count": 45,
      "metadata": {
        "colab": {
          "base_uri": "https://localhost:8080/"
        },
        "id": "Y0q7_MZBlfD8",
        "outputId": "6c8f9115-789f-41b3-c778-c7860916a109"
      },
      "outputs": [
        {
          "output_type": "stream",
          "name": "stdout",
          "text": [
            "Model: \"sequential_3\"\n",
            "_________________________________________________________________\n",
            " Layer (type)                Output Shape              Param #   \n",
            "=================================================================\n",
            " sequential_2 (Sequential)   (32, 224, 224, 3)         0         \n",
            "                                                                 \n",
            " conv2d_3 (Conv2D)           (32, 222, 222, 32)        896       \n",
            "                                                                 \n",
            " max_pooling2d_3 (MaxPooling  (32, 111, 111, 32)       0         \n",
            " 2D)                                                             \n",
            "                                                                 \n",
            " conv2d_4 (Conv2D)           (32, 109, 109, 64)        18496     \n",
            "                                                                 \n",
            " max_pooling2d_4 (MaxPooling  (32, 54, 54, 64)         0         \n",
            " 2D)                                                             \n",
            "                                                                 \n",
            " conv2d_5 (Conv2D)           (32, 52, 52, 64)          36928     \n",
            "                                                                 \n",
            " max_pooling2d_5 (MaxPooling  (32, 26, 26, 64)         0         \n",
            " 2D)                                                             \n",
            "                                                                 \n",
            " conv2d_6 (Conv2D)           (32, 24, 24, 64)          36928     \n",
            "                                                                 \n",
            " max_pooling2d_6 (MaxPooling  (32, 12, 12, 64)         0         \n",
            " 2D)                                                             \n",
            "                                                                 \n",
            " flatten_1 (Flatten)         (32, 9216)                0         \n",
            "                                                                 \n",
            " dropout_1 (Dropout)         (32, 9216)                0         \n",
            "                                                                 \n",
            " dense_2 (Dense)             (32, 64)                  589888    \n",
            "                                                                 \n",
            " dropout_2 (Dropout)         (32, 64)                  0         \n",
            "                                                                 \n",
            " dense_3 (Dense)             (32, 8)                   520       \n",
            "                                                                 \n",
            "=================================================================\n",
            "Total params: 683,656\n",
            "Trainable params: 683,656\n",
            "Non-trainable params: 0\n",
            "_________________________________________________________________\n"
          ]
        }
      ],
      "source": [
        "my_model.summary()"
      ]
    },
    {
      "cell_type": "code",
      "execution_count": 46,
      "metadata": {
        "id": "wLUMwP8jlfGA"
      },
      "outputs": [],
      "source": [
        "my_model.compile(\n",
        "    optimizer='adam',\n",
        "    loss=tf.keras.losses.SparseCategoricalCrossentropy(from_logits=False),\n",
        "    metrics=['accuracy']\n",
        ")"
      ]
    },
    {
      "cell_type": "code",
      "execution_count": 47,
      "metadata": {
        "colab": {
          "base_uri": "https://localhost:8080/"
        },
        "id": "fMdEkp72ll1A",
        "outputId": "1f039cf2-5e09-4c3a-c524-12618cca3960"
      },
      "outputs": [
        {
          "output_type": "stream",
          "name": "stdout",
          "text": [
            "Epoch 1/3\n",
            "100/100 [==============================] - 25s 200ms/step - loss: 1.6152 - accuracy: 0.3541 - val_loss: 1.2494 - val_accuracy: 0.5781\n",
            "Epoch 2/3\n",
            "100/100 [==============================] - 22s 199ms/step - loss: 0.8135 - accuracy: 0.6888 - val_loss: 0.5318 - val_accuracy: 0.8177\n",
            "Epoch 3/3\n",
            "100/100 [==============================] - 23s 200ms/step - loss: 0.5613 - accuracy: 0.7775 - val_loss: 0.4672 - val_accuracy: 0.8411\n"
          ]
        }
      ],
      "source": [
        "early_stopping_callback = tf.keras.callbacks.EarlyStopping(\n",
        "    monitor='val_loss', patience=3, restore_best_weights=True)\n",
        "\n",
        "history_new = my_model.fit(\n",
        "    train_ds,\n",
        "    batch_size=BATCH_SIZE,\n",
        "    epochs=EPOCHS,\n",
        "    validation_data=val_ds,\n",
        "    callbacks=[early_stopping_callback]\n",
        ") \n",
        "\n"
      ]
    },
    {
      "cell_type": "code",
      "source": [
        "'''scores = my_model.evaluate(test_ds)'''"
      ],
      "metadata": {
        "id": "V8ebQfMCKzp1"
      },
      "execution_count": null,
      "outputs": []
    },
    {
      "cell_type": "code",
      "source": [
        "my_model_acc = history_new.history['accuracy']\n",
        "my_model_val_acc = history_new.history['val_accuracy']\n",
        "\n",
        "my_model_loss = history_new.history['loss']\n",
        "my_model_val_loss = history_new.history['val_loss']"
      ],
      "metadata": {
        "id": "HIIJzKq9Kztx"
      },
      "execution_count": 48,
      "outputs": []
    },
    {
      "cell_type": "code",
      "execution_count": 52,
      "metadata": {
        "id": "xBwRqkzNll3U",
        "colab": {
          "base_uri": "https://localhost:8080/"
        },
        "outputId": "49b55694-d798-4c3f-e7ba-78ed3d24fd0d"
      },
      "outputs": [
        {
          "output_type": "stream",
          "name": "stdout",
          "text": [
            "Test accuracy: [0.3540624976158142, 0.6887500286102295, 0.7774999737739563]\n",
            "Validation accuracy: [0.578125, 0.8177083134651184, 0.8411458134651184]\n",
            "Loss: [1.6152081489562988, 0.8135330080986023, 0.561306893825531]\n",
            "Validation loss: [1.2494468688964844, 0.53177410364151, 0.4672270119190216]\n"
          ]
        }
      ],
      "source": [
        "print('Test accuracy:', my_model_acc)\n",
        "print('Validation accuracy:', my_model_val_acc)\n",
        "print('Loss:', my_model_loss)\n",
        "print('Validation loss:', my_model_val_loss)"
      ]
    },
    {
      "cell_type": "code",
      "execution_count": 53,
      "metadata": {
        "id": "2xHe9l5ilY9T",
        "colab": {
          "base_uri": "https://localhost:8080/"
        },
        "outputId": "89f3a54c-d1f3-4dd7-f460-6215c79ed5cb"
      },
      "outputs": [
        {
          "output_type": "stream",
          "name": "stdout",
          "text": [
            "Test accuracy: 0.7774999737739563\n",
            "Model loss: 0.4672270119190216\n"
          ]
        }
      ],
      "source": [
        "#Best results recorded\n",
        "print('Test accuracy:', my_model_acc[2])\n",
        "print('Model loss:', my_model_val_loss[2])"
      ]
    },
    {
      "cell_type": "markdown",
      "source": [
        "###Comparison between two CNN Models"
      ],
      "metadata": {
        "id": "viJW4zcybDqz"
      }
    },
    {
      "cell_type": "code",
      "execution_count": 58,
      "metadata": {
        "id": "JFQVrXgqlY-4",
        "colab": {
          "base_uri": "https://localhost:8080/",
          "height": 472
        },
        "outputId": "8c039ada-918a-489c-fc52-625d439ebda3"
      },
      "outputs": [
        {
          "output_type": "display_data",
          "data": {
            "text/plain": [
              "<Figure size 640x480 with 1 Axes>"
            ],
            "image/png": "[encoded data removed]"
          },
          "metadata": {}
        }
      ],
      "source": [
        "import matplotlib.pyplot as plt\n",
        "\n",
        "plt.plot([1, 2], [accuracy, my_model_acc[2]], 'bo-', label='Test Accuracy')\n",
        "plt.plot([1, 2], [loss, my_model_loss[2]], 'rs-', label='Model Loss')\n",
        "plt.xticks([1, 2], ['Model 1', 'Model 2'])\n",
        "plt.xlabel('Model')\n",
        "plt.ylabel('Accuracy / Loss')\n",
        "plt.title('Comparison of Model Performance')\n",
        "plt.legend()\n",
        "plt.show()\n"
      ]
    },
    {
      "cell_type": "code",
      "execution_count": null,
      "metadata": {
        "id": "ebgxOEf6lZAs"
      },
      "outputs": [],
      "source": []
    },
    {
      "cell_type": "code",
      "source": [],
      "metadata": {
        "id": "ACde8N1GXaEe"
      },
      "execution_count": null,
      "outputs": []
    },
    {
      "cell_type": "markdown",
      "source": [
        "###Features and label preparation"
      ],
      "metadata": {
        "id": "bTBB6TkDXaXe"
      }
    },
    {
      "cell_type": "code",
      "execution_count": null,
      "metadata": {
        "id": "sBWMzWze2ZNX"
      },
      "outputs": [],
      "source": [
        "BATCH_SIZE = 32\n",
        "IMAGE_SIZE = 256\n",
        "CHANNELS=3"
      ]
    },
    {
      "cell_type": "code",
      "source": [
        "import numpy as np\n",
        "from tensorflow.keras.preprocessing.image import load_img, img_to_array\n",
        "\n",
        "# read images from file paths and convert them into numpy arrays\n",
        "X_train = np.zeros((len(train), IMAGE_SIZE, IMAGE_SIZE, CHANNELS), dtype=np.uint8)\n",
        "for i, filepath in enumerate(train['filename']):\n",
        "    img = load_img(filepath, target_size=(IMAGE_SIZE, IMAGE_SIZE))\n",
        "    X_train[i] = img_to_array(img)\n",
        "\n",
        "# extract labels\n",
        "y_train = train['label'].values"
      ],
      "metadata": {
        "id": "_iQmyPDGG0m8"
      },
      "execution_count": null,
      "outputs": []
    },
    {
      "cell_type": "code",
      "source": [
        "# read test images and convert them into numpy arrays\n",
        "X_test = np.zeros((len(test), IMAGE_SIZE, IMAGE_SIZE, CHANNELS), dtype=np.uint8)\n",
        "for i, filepath in enumerate(test['filename']):\n",
        "    img = load_img(filepath, target_size=(IMAGE_SIZE, IMAGE_SIZE))\n",
        "    X_test[i] = img_to_array(img)\n",
        "\n",
        "# extract test labels\n",
        "y_test = test['label'].values"
      ],
      "metadata": {
        "id": "TgQV3dNEG0vh"
      },
      "execution_count": null,
      "outputs": []
    },
    {
      "cell_type": "code",
      "source": [
        "# Flatten the image arrays\n",
        "X_train = X_train.reshape(len(train), -1)"
      ],
      "metadata": {
        "id": "szxOvROAG0yX"
      },
      "execution_count": null,
      "outputs": []
    },
    {
      "cell_type": "code",
      "execution_count": null,
      "metadata": {
        "id": "ylE-VYnelZCZ"
      },
      "outputs": [],
      "source": []
    },
    {
      "cell_type": "code",
      "execution_count": null,
      "metadata": {
        "id": "dZVxAjsRlZD3"
      },
      "outputs": [],
      "source": []
    },
    {
      "cell_type": "markdown",
      "metadata": {
        "id": "-CnKIpt9un3-"
      },
      "source": [
        "###SVM"
      ]
    },
    {
      "cell_type": "code",
      "execution_count": null,
      "metadata": {
        "id": "0AlezX1wj-QP"
      },
      "outputs": [],
      "source": [
        "import numpy as np\n",
        "from sklearn.svm import SVC\n",
        "from sklearn.metrics import accuracy_score\n",
        "from tensorflow.keras.preprocessing.image import load_img, img_to_array\n"
      ]
    },
    {
      "cell_type": "code",
      "execution_count": null,
      "metadata": {
        "id": "KTU7461Siw9L"
      },
      "outputs": [],
      "source": [
        "# Define the SVM classifier and fit the training data\n",
        "svm_clf = SVC(kernel='rbf', C=10, gamma=0.001)\n",
        "svm_model = svm_clf.fit(X_train, y_train)\n"
      ]
    },
    {
      "cell_type": "code",
      "source": [
        "# Predict the labels for the training data\n",
        "svm_y_pred_train = svm_clf.predict(X_train)\n",
        "\n",
        "# Evaluate the accuracy of the classifier\n",
        "svm_acc_train = accuracy_score(y_train, svm_y_pred_train)\n",
        "print('Training accuracy:', svm_acc_train)"
      ],
      "metadata": {
        "id": "EfkyWI7wHnYa"
      },
      "execution_count": null,
      "outputs": []
    },
    {
      "cell_type": "code",
      "execution_count": null,
      "metadata": {
        "id": "XZ7vqY_tj8cF"
      },
      "outputs": [],
      "source": [
        "# Predict the labels for the test data\n",
        "svm_y_pred_test = svm_clf.predict(X_test)\n",
        "\n",
        "# Evaluate the accuracy of the classifier\n",
        "svm_acc_test = accuracy_score(y_test, svm_y_pred_test)\n",
        "print('Test accuracy:', svm_acc_test)\n"
      ]
    },
    {
      "cell_type": "code",
      "execution_count": null,
      "metadata": {
        "id": "7ggC9g4fj8fe"
      },
      "outputs": [],
      "source": [
        "svm_acc_test = accuracy_score(y_test, svm_y_pred_test)\n",
        "print('Test Accuracy:', svm_acc_test)\n",
        "\n",
        "svm_pre_test = precision_score(y_test, svm_y_pred_test, average='macro')\n",
        "print('Test Precision:', svm_pre_test)\n",
        "\n",
        "svm_f1_test = f1_score(y_test, svm_y_pred_test, average='macro')\n",
        "print('Test F1 score:', svm_f1_test)\n",
        "\n",
        "svm_recall_test = recall_score(y_test, svm_y_pred_test, average='macro')\n",
        "print('Test Recall:', svm_recall_test)\n"
      ]
    },
    {
      "cell_type": "markdown",
      "metadata": {
        "id": "4kNM0kz7iyhc"
      },
      "source": [
        "###Decision Tree"
      ]
    },
    {
      "cell_type": "code",
      "execution_count": null,
      "metadata": {
        "id": "EZTCUy_L0qRL"
      },
      "outputs": [],
      "source": [
        "from sklearn.tree import DecisionTreeClassifier\n",
        "from sklearn.metrics import precision_score, recall_score, f1_score, confusion_matrix\n",
        "from sklearn.metrics import accuracy_score"
      ]
    },
    {
      "cell_type": "code",
      "execution_count": null,
      "metadata": {
        "id": "T0TzcvU1jWkr"
      },
      "outputs": [],
      "source": [
        "# Initialize a decision tree classifier\n",
        "dt_clf = DecisionTreeClassifier(criterion='entropy', max_depth=5, min_samples_split=2, min_samples_leaf=1, max_features=None)\n",
        "\n",
        "# Train the classifier on the training data\n",
        "dt_model = dt_clf.fit(X_train.reshape(len(train), -1), y_train)"
      ]
    },
    {
      "cell_type": "code",
      "execution_count": null,
      "metadata": {
        "id": "rB65E2ILjWmu"
      },
      "outputs": [],
      "source": [
        "# Predict the labels for the training data\n",
        "dt_y_pred_train = dt_clf.predict(X_train.reshape(len(train), -1))"
      ]
    },
    {
      "cell_type": "code",
      "execution_count": null,
      "metadata": {
        "colab": {
          "base_uri": "https://localhost:8080/"
        },
        "id": "82bBSnTwjWo0",
        "outputId": "d22a6ee5-76bd-4c5b-cce3-c327af06569b"
      },
      "outputs": [
        {
          "output_type": "stream",
          "name": "stdout",
          "text": [
            "Training accuracy: 0.6840625\n"
          ]
        }
      ],
      "source": [
        "# Evaluate the accuracy of the classifier\n",
        "dt_acc_train = accuracy_score(y_train, dt_y_pred_train)\n",
        "print('Training accuracy:', dt_acc_train)"
      ]
    },
    {
      "cell_type": "code",
      "execution_count": null,
      "metadata": {
        "colab": {
          "base_uri": "https://localhost:8080/"
        },
        "id": "5cYupTzbjWqJ",
        "outputId": "e80ccbc1-0a86-4967-9ecd-c9adef937afa"
      },
      "outputs": [
        {
          "output_type": "stream",
          "name": "stdout",
          "text": [
            "Test accuracy: 0.635\n"
          ]
        }
      ],
      "source": [
        "# predict the labels for the test data using the trained classifier\n",
        "dt_y_pred_test = dt_clf.predict(X_test.reshape(len(test), -1))\n",
        "\n",
        "# evaluate the accuracy of the classifier on the test data\n",
        "dt_acc_test = accuracy_score(y_test, dt_y_pred_test)\n",
        "print('Test accuracy:', dt_acc_test)\n"
      ]
    },
    {
      "cell_type": "code",
      "execution_count": null,
      "metadata": {
        "id": "zOGqHdKei1aT",
        "colab": {
          "base_uri": "https://localhost:8080/"
        },
        "outputId": "f6423e21-1f77-45b9-923c-3f661baa8efe"
      },
      "outputs": [
        {
          "output_type": "stream",
          "name": "stdout",
          "text": [
            "Test Accuracy: 0.635\n",
            "Test Precision: 0.6271365496808321\n",
            "Test F1 Score: 0.6193594614672919\n",
            "Test Recall: 0.6228418569079412\n"
          ]
        }
      ],
      "source": [
        "dt_acc_test = accuracy_score(y_test, dt_y_pred_test)\n",
        "print('Test Accuracy:', dt_acc_test)\n",
        "\n",
        "dt_pre_test = precision_score(y_test, dt_y_pred_test, average='macro')\n",
        "print('Test Precision:', dt_pre_test)\n",
        "\n",
        "dt_f1_test = f1_score(y_test, dt_y_pred_test, average='macro')\n",
        "print('Test F1 Score:', dt_f1_test)\n",
        "\n",
        "dt_recall_test = recall_score(y_test, dt_y_pred_test, average='macro')\n",
        "print('Test Recall:', dt_recall_test)\n"
      ]
    },
    {
      "cell_type": "code",
      "execution_count": null,
      "metadata": {
        "id": "ZxFQzJSyi1b4",
        "colab": {
          "base_uri": "https://localhost:8080/",
          "height": 394
        },
        "outputId": "19bef979-fe15-4d3a-932f-fe3d16597ccd"
      },
      "outputs": [
        {
          "output_type": "execute_result",
          "data": {
            "text/plain": [
              "               index  precision    recall  f1-score  support\n",
              "0        Anthracnose   0.631579  0.727273  0.676056   99.000\n",
              "1   Bacterial Canker   0.801887  0.664062  0.726496  128.000\n",
              "2     Cutting Weevil   0.815217  0.974026  0.887574   77.000\n",
              "3           Die Back   0.896552  0.737589  0.809339  141.000\n",
              "4         Gall Midge   0.363636  0.355556  0.359551   90.000\n",
              "5            Healthy   0.511364  0.489130  0.500000   92.000\n",
              "6     Powdery Mildew   0.650000  0.585586  0.616114  111.000\n",
              "7        Sooty Mould   0.312500  0.483871  0.379747   62.000\n",
              "8           accuracy   0.635000  0.635000  0.635000    0.635\n",
              "9          macro avg   0.622842  0.627137  0.619359  800.000\n",
              "10      weighted avg   0.657064  0.635000  0.640842  800.000"
            ],
            "text/html": [
              "\n",
              "  <div id=\"df-4e36b4ed-7b1b-4c25-8b26-dd307c6f6427\">\n",
              "    <div class=\"colab-df-container\">\n",
              "      <div>\n",
              "<style scoped>\n",
              "    .dataframe tbody tr th:only-of-type {\n",
              "        vertical-align: middle;\n",
              "    }\n",
              "\n",
              "    .dataframe tbody tr th {\n",
              "        vertical-align: top;\n",
              "    }\n",
              "\n",
              "    .dataframe thead th {\n",
              "        text-align: right;\n",
              "    }\n",
              "</style>\n",
              "<table border=\"1\" class=\"dataframe\">\n",
              "  <thead>\n",
              "    <tr style=\"text-align: right;\">\n",
              "      <th></th>\n",
              "      <th>index</th>\n",
              "      <th>precision</th>\n",
              "      <th>recall</th>\n",
              "      <th>f1-score</th>\n",
              "      <th>support</th>\n",
              "    </tr>\n",
              "  </thead>\n",
              "  <tbody>\n",
              "    <tr>\n",
              "      <th>0</th>\n",
              "      <td>Anthracnose</td>\n",
              "      <td>0.631579</td>\n",
              "      <td>0.727273</td>\n",
              "      <td>0.676056</td>\n",
              "      <td>99.000</td>\n",
              "    </tr>\n",
              "    <tr>\n",
              "      <th>1</th>\n",
              "      <td>Bacterial Canker</td>\n",
              "      <td>0.801887</td>\n",
              "      <td>0.664062</td>\n",
              "      <td>0.726496</td>\n",
              "      <td>128.000</td>\n",
              "    </tr>\n",
              "    <tr>\n",
              "      <th>2</th>\n",
              "      <td>Cutting Weevil</td>\n",
              "      <td>0.815217</td>\n",
              "      <td>0.974026</td>\n",
              "      <td>0.887574</td>\n",
              "      <td>77.000</td>\n",
              "    </tr>\n",
              "    <tr>\n",
              "      <th>3</th>\n",
              "      <td>Die Back</td>\n",
              "      <td>0.896552</td>\n",
              "      <td>0.737589</td>\n",
              "      <td>0.809339</td>\n",
              "      <td>141.000</td>\n",
              "    </tr>\n",
              "    <tr>\n",
              "      <th>4</th>\n",
              "      <td>Gall Midge</td>\n",
              "      <td>0.363636</td>\n",
              "      <td>0.355556</td>\n",
              "      <td>0.359551</td>\n",
              "      <td>90.000</td>\n",
              "    </tr>\n",
              "    <tr>\n",
              "      <th>5</th>\n",
              "      <td>Healthy</td>\n",
              "      <td>0.511364</td>\n",
              "      <td>0.489130</td>\n",
              "      <td>0.500000</td>\n",
              "      <td>92.000</td>\n",
              "    </tr>\n",
              "    <tr>\n",
              "      <th>6</th>\n",
              "      <td>Powdery Mildew</td>\n",
              "      <td>0.650000</td>\n",
              "      <td>0.585586</td>\n",
              "      <td>0.616114</td>\n",
              "      <td>111.000</td>\n",
              "    </tr>\n",
              "    <tr>\n",
              "      <th>7</th>\n",
              "      <td>Sooty Mould</td>\n",
              "      <td>0.312500</td>\n",
              "      <td>0.483871</td>\n",
              "      <td>0.379747</td>\n",
              "      <td>62.000</td>\n",
              "    </tr>\n",
              "    <tr>\n",
              "      <th>8</th>\n",
              "      <td>accuracy</td>\n",
              "      <td>0.635000</td>\n",
              "      <td>0.635000</td>\n",
              "      <td>0.635000</td>\n",
              "      <td>0.635</td>\n",
              "    </tr>\n",
              "    <tr>\n",
              "      <th>9</th>\n",
              "      <td>macro avg</td>\n",
              "      <td>0.622842</td>\n",
              "      <td>0.627137</td>\n",
              "      <td>0.619359</td>\n",
              "      <td>800.000</td>\n",
              "    </tr>\n",
              "    <tr>\n",
              "      <th>10</th>\n",
              "      <td>weighted avg</td>\n",
              "      <td>0.657064</td>\n",
              "      <td>0.635000</td>\n",
              "      <td>0.640842</td>\n",
              "      <td>800.000</td>\n",
              "    </tr>\n",
              "  </tbody>\n",
              "</table>\n",
              "</div>\n",
              "      <button class=\"colab-df-convert\" onclick=\"convertToInteractive('df-4e36b4ed-7b1b-4c25-8b26-dd307c6f6427')\"\n",
              "              title=\"Convert this dataframe to an interactive table.\"\n",
              "              style=\"display:none;\">\n",
              "        \n",
              "  <svg xmlns=\"http://www.w3.org/2000/svg\" height=\"24px\"viewBox=\"0 0 24 24\"\n",
              "       width=\"24px\">\n",
              "    <path d=\"M0 0h24v24H0V0z\" fill=\"none\"/>\n",
              "    <path d=\"M18.56 5.44l.94 2.06.94-2.06 2.06-.94-2.06-.94-.94-2.06-.94 2.06-2.06.94zm-11 1L8.5 8.5l.94-2.06 2.06-.94-2.06-.94L8.5 2.5l-.94 2.06-2.06.94zm10 10l.94 2.06.94-2.06 2.06-.94-2.06-.94-.94-2.06-.94 2.06-2.06.94z\"/><path d=\"M17.41 7.96l-1.37-1.37c-.4-.4-.92-.59-1.43-.59-.52 0-1.04.2-1.43.59L10.3 9.45l-7.72 7.72c-.78.78-.78 2.05 0 2.83L4 21.41c.39.39.9.59 1.41.59.51 0 1.02-.2 1.41-.59l7.78-7.78 2.81-2.81c.8-.78.8-2.07 0-2.86zM5.41 20L4 18.59l7.72-7.72 1.47 1.35L5.41 20z\"/>\n",
              "  </svg>\n",
              "      </button>\n",
              "      \n",
              "  <style>\n",
              "    .colab-df-container {\n",
              "      display:flex;\n",
              "      flex-wrap:wrap;\n",
              "      gap: 12px;\n",
              "    }\n",
              "\n",
              "    .colab-df-convert {\n",
              "      background-color: #E8F0FE;\n",
              "      border: none;\n",
              "      border-radius: 50%;\n",
              "      cursor: pointer;\n",
              "      display: none;\n",
              "      fill: #1967D2;\n",
              "      height: 32px;\n",
              "      padding: 0 0 0 0;\n",
              "      width: 32px;\n",
              "    }\n",
              "\n",
              "    .colab-df-convert:hover {\n",
              "      background-color: #E2EBFA;\n",
              "      box-shadow: 0px 1px 2px rgba(60, 64, 67, 0.3), 0px 1px 3px 1px rgba(60, 64, 67, 0.15);\n",
              "      fill: #174EA6;\n",
              "    }\n",
              "\n",
              "    [theme=dark] .colab-df-convert {\n",
              "      background-color: #3B4455;\n",
              "      fill: #D2E3FC;\n",
              "    }\n",
              "\n",
              "    [theme=dark] .colab-df-convert:hover {\n",
              "      background-color: #434B5C;\n",
              "      box-shadow: 0px 1px 3px 1px rgba(0, 0, 0, 0.15);\n",
              "      filter: drop-shadow(0px 1px 2px rgba(0, 0, 0, 0.3));\n",
              "      fill: #FFFFFF;\n",
              "    }\n",
              "  </style>\n",
              "\n",
              "      <script>\n",
              "        const buttonEl =\n",
              "          document.querySelector('#df-4e36b4ed-7b1b-4c25-8b26-dd307c6f6427 button.colab-df-convert');\n",
              "        buttonEl.style.display =\n",
              "          google.colab.kernel.accessAllowed ? 'block' : 'none';\n",
              "\n",
              "        async function convertToInteractive(key) {\n",
              "          const element = document.querySelector('#df-4e36b4ed-7b1b-4c25-8b26-dd307c6f6427');\n",
              "          const dataTable =\n",
              "            await google.colab.kernel.invokeFunction('convertToInteractive',\n",
              "                                                     [key], {});\n",
              "          if (!dataTable) return;\n",
              "\n",
              "          const docLinkHtml = 'Like what you see? Visit the ' +\n",
              "            '<a target=\"_blank\" href=https://colab.research.google.com/notebooks/data_table.ipynb>data table notebook</a>'\n",
              "            + ' to learn more about interactive tables.';\n",
              "          element.innerHTML = '';\n",
              "          dataTable['output_type'] = 'display_data';\n",
              "          await google.colab.output.renderOutput(dataTable, element);\n",
              "          const docLink = document.createElement('div');\n",
              "          docLink.innerHTML = docLinkHtml;\n",
              "          element.appendChild(docLink);\n",
              "        }\n",
              "      </script>\n",
              "    </div>\n",
              "  </div>\n",
              "  "
            ]
          },
          "metadata": {},
          "execution_count": 46
        }
      ],
      "source": [
        "from sklearn.metrics import classification_report\n",
        "\n",
        "#Printing the classification report\n",
        "cr = classification_report(dt_y_pred_test, y_test, output_dict=True)\n",
        "dt_cr = pd.DataFrame(cr).T.reset_index()\n",
        "dt_cr"
      ]
    },
    {
      "cell_type": "code",
      "source": [
        "res = confusion_matrix(y_test, dt_y_pred_test , normalize='pred')\n",
        "cm = pd.DataFrame(res, class_names, class_names)\n",
        "sns.set(font_scale=1)\n",
        "ax=plt.subplot()\n",
        "sns.heatmap(cm, annot=True, annot_kws={\"size\": 10})\n",
        "ax.set_xlabel('Prediction');ax.set_ylabel('True'); \n",
        "ax.set_title('Confusion matrix'); \n",
        "plt.show()"
      ],
      "metadata": {
        "colab": {
          "base_uri": "https://localhost:8080/",
          "height": 592
        },
        "id": "5iPH9ggPkmP4",
        "outputId": "ec6d4142-d31c-4d8f-c293-647054e40195"
      },
      "execution_count": null,
      "outputs": [
        {
          "output_type": "display_data",
          "data": {
            "text/plain": [
              "<Figure size 640x480 with 2 Axes>"
            ],
            "image/png": "[encoded data removed]"
          },
          "metadata": {}
        }
      ]
    },
    {
      "cell_type": "markdown",
      "metadata": {
        "id": "4tukst24i1m0"
      },
      "source": [
        "###NBC"
      ]
    },
    {
      "cell_type": "code",
      "execution_count": null,
      "metadata": {
        "id": "wA_w7JQm0r7G",
        "colab": {
          "base_uri": "https://localhost:8080/",
          "height": 89
        },
        "outputId": "1a905548-c0e0-4afa-b7f1-b7093eeb44cb"
      },
      "outputs": [
        {
          "output_type": "execute_result",
          "data": {
            "text/plain": [
              "\"# read images from file paths and convert them into numpy arrays\\nX_train = np.zeros((len(train), IMAGE_SIZE, IMAGE_SIZE, CHANNELS), dtype=np.uint8)\\nfor i, filepath in enumerate(train['filename']):\\n    img = load_img(filepath, target_size=(IMAGE_SIZE, IMAGE_SIZE))\\n    X_train[i] = img_to_array(img)\\n\\n# reshape the input array\\nX_train = X_train.reshape(X_train.shape[0], -1)\\n\\n# extract labels\\ny_train = train['label'].values\""
            ],
            "application/vnd.google.colaboratory.intrinsic+json": {
              "type": "string"
            }
          },
          "metadata": {},
          "execution_count": 52
        }
      ],
      "source": [
        "import numpy as np\n",
        "from sklearn.naive_bayes import MultinomialNB\n",
        "from tensorflow.keras.preprocessing.image import load_img, img_to_array\n",
        "\n"
      ]
    },
    {
      "cell_type": "code",
      "execution_count": null,
      "metadata": {
        "id": "1iIIkAQi0xFE"
      },
      "outputs": [],
      "source": [
        "from sklearn.naive_bayes import MultinomialNB"
      ]
    },
    {
      "cell_type": "code",
      "source": [
        "mnb_model = MultinomialNB(alpha=0.5, fit_prior=False)\n",
        "nb_model = mnb_model.fit(X_train,y_train)"
      ],
      "metadata": {
        "id": "1ctSXHkYLMHp"
      },
      "execution_count": null,
      "outputs": []
    },
    {
      "cell_type": "code",
      "source": [
        "# Predict the labels for the training data\n",
        "nb_y_pred_train = mnb_model.predict(X_train.reshape(len(train), -1))"
      ],
      "metadata": {
        "id": "QWsTZp-5msxg"
      },
      "execution_count": null,
      "outputs": []
    },
    {
      "cell_type": "code",
      "source": [
        "mnb_acc_train = accuracy_score(y_train, nb_y_pred_train)\n",
        "print('Training accuracy:', mnb_acc_train)"
      ],
      "metadata": {
        "colab": {
          "base_uri": "https://localhost:8080/"
        },
        "id": "baEDG0IUl6d5",
        "outputId": "7e9f435d-87b2-4821-9da3-2060913e656c"
      },
      "execution_count": null,
      "outputs": [
        {
          "output_type": "stream",
          "name": "stdout",
          "text": [
            "Training accuracy: 0.5290625\n"
          ]
        }
      ]
    },
    {
      "cell_type": "code",
      "execution_count": null,
      "metadata": {
        "colab": {
          "base_uri": "https://localhost:8080/"
        },
        "id": "EfOtvHi21-fd",
        "outputId": "732f31fa-9e66-44ce-eb33-16e0eaa18360"
      },
      "outputs": [
        {
          "output_type": "stream",
          "name": "stdout",
          "text": [
            "Test accuracy: 0.49125\n"
          ]
        }
      ],
      "source": [
        "mnb_y_pred_test = nb_model.predict(X_test.reshape(len(test), -1))\n",
        "\n",
        "# evaluate the accuracy of the classifier on the test data\n",
        "mnb_acc_test = accuracy_score(y_test, mnb_y_pred_test)\n",
        "print('Test accuracy:', mnb_acc_test)"
      ]
    },
    {
      "cell_type": "code",
      "source": [
        "mnb_acc_test = accuracy_score(y_test, mnb_y_pred_test)\n",
        "print('Test Accuracy:', mnb_acc_test)\n",
        "\n",
        "mnb_pre_test = precision_score(y_test, mnb_y_pred_test, average='macro')\n",
        "print('Test Precision:', mnb_pre_test)\n",
        "\n",
        "mnb_f1_test = f1_score(y_test, mnb_y_pred_test, average='macro')\n",
        "print('Test F1 Score:', mnb_f1_test)\n",
        "\n",
        "mnb_recall_test = recall_score(y_test, mnb_y_pred_test, average='macro')\n",
        "print('Test Recall:', mnb_recall_test)\n"
      ],
      "metadata": {
        "colab": {
          "base_uri": "https://localhost:8080/"
        },
        "id": "bo8V5yihmVJ_",
        "outputId": "27678d2b-ed7f-4b86-a92d-a9372aad0a78"
      },
      "execution_count": null,
      "outputs": [
        {
          "output_type": "stream",
          "name": "stdout",
          "text": [
            "Test Accuracy: 0.49125\n",
            "Test Precision: 0.48477152486200603\n",
            "Test F1 Score: 0.48079915874059476\n",
            "Test Recall: 0.4908918209840304\n"
          ]
        }
      ]
    },
    {
      "cell_type": "code",
      "execution_count": null,
      "metadata": {
        "colab": {
          "base_uri": "https://localhost:8080/",
          "height": 394
        },
        "id": "EWOkIxoJ1-hR",
        "outputId": "188c8f96-cec0-4d50-c42e-3628be49bf4f"
      },
      "outputs": [
        {
          "output_type": "execute_result",
          "data": {
            "text/plain": [
              "               index  precision    recall  f1-score    support\n",
              "0        Anthracnose   0.368421  0.506024  0.426396   83.00000\n",
              "1   Bacterial Canker   0.594340  0.492188  0.538462  128.00000\n",
              "2     Cutting Weevil   0.847826  0.684211  0.757282  114.00000\n",
              "3           Die Back   0.586207  0.723404  0.647619   94.00000\n",
              "4         Gall Midge   0.204545  0.233766  0.218182   77.00000\n",
              "5            Healthy   0.579545  0.414634  0.483412  123.00000\n",
              "6     Powdery Mildew   0.340000  0.459459  0.390805   74.00000\n",
              "7        Sooty Mould   0.406250  0.364486  0.384236  107.00000\n",
              "8           accuracy   0.491250  0.491250  0.491250    0.49125\n",
              "9          macro avg   0.490892  0.484772  0.480799  800.00000\n",
              "10      weighted avg   0.517591  0.491250  0.497266  800.00000"
            ],
            "text/html": [
              "\n",
              "  <div id=\"df-0bd06357-8adf-4fdf-8d21-c04620ff3341\">\n",
              "    <div class=\"colab-df-container\">\n",
              "      <div>\n",
              "<style scoped>\n",
              "    .dataframe tbody tr th:only-of-type {\n",
              "        vertical-align: middle;\n",
              "    }\n",
              "\n",
              "    .dataframe tbody tr th {\n",
              "        vertical-align: top;\n",
              "    }\n",
              "\n",
              "    .dataframe thead th {\n",
              "        text-align: right;\n",
              "    }\n",
              "</style>\n",
              "<table border=\"1\" class=\"dataframe\">\n",
              "  <thead>\n",
              "    <tr style=\"text-align: right;\">\n",
              "      <th></th>\n",
              "      <th>index</th>\n",
              "      <th>precision</th>\n",
              "      <th>recall</th>\n",
              "      <th>f1-score</th>\n",
              "      <th>support</th>\n",
              "    </tr>\n",
              "  </thead>\n",
              "  <tbody>\n",
              "    <tr>\n",
              "      <th>0</th>\n",
              "      <td>Anthracnose</td>\n",
              "      <td>0.368421</td>\n",
              "      <td>0.506024</td>\n",
              "      <td>0.426396</td>\n",
              "      <td>83.00000</td>\n",
              "    </tr>\n",
              "    <tr>\n",
              "      <th>1</th>\n",
              "      <td>Bacterial Canker</td>\n",
              "      <td>0.594340</td>\n",
              "      <td>0.492188</td>\n",
              "      <td>0.538462</td>\n",
              "      <td>128.00000</td>\n",
              "    </tr>\n",
              "    <tr>\n",
              "      <th>2</th>\n",
              "      <td>Cutting Weevil</td>\n",
              "      <td>0.847826</td>\n",
              "      <td>0.684211</td>\n",
              "      <td>0.757282</td>\n",
              "      <td>114.00000</td>\n",
              "    </tr>\n",
              "    <tr>\n",
              "      <th>3</th>\n",
              "      <td>Die Back</td>\n",
              "      <td>0.586207</td>\n",
              "      <td>0.723404</td>\n",
              "      <td>0.647619</td>\n",
              "      <td>94.00000</td>\n",
              "    </tr>\n",
              "    <tr>\n",
              "      <th>4</th>\n",
              "      <td>Gall Midge</td>\n",
              "      <td>0.204545</td>\n",
              "      <td>0.233766</td>\n",
              "      <td>0.218182</td>\n",
              "      <td>77.00000</td>\n",
              "    </tr>\n",
              "    <tr>\n",
              "      <th>5</th>\n",
              "      <td>Healthy</td>\n",
              "      <td>0.579545</td>\n",
              "      <td>0.414634</td>\n",
              "      <td>0.483412</td>\n",
              "      <td>123.00000</td>\n",
              "    </tr>\n",
              "    <tr>\n",
              "      <th>6</th>\n",
              "      <td>Powdery Mildew</td>\n",
              "      <td>0.340000</td>\n",
              "      <td>0.459459</td>\n",
              "      <td>0.390805</td>\n",
              "      <td>74.00000</td>\n",
              "    </tr>\n",
              "    <tr>\n",
              "      <th>7</th>\n",
              "      <td>Sooty Mould</td>\n",
              "      <td>0.406250</td>\n",
              "      <td>0.364486</td>\n",
              "      <td>0.384236</td>\n",
              "      <td>107.00000</td>\n",
              "    </tr>\n",
              "    <tr>\n",
              "      <th>8</th>\n",
              "      <td>accuracy</td>\n",
              "      <td>0.491250</td>\n",
              "      <td>0.491250</td>\n",
              "      <td>0.491250</td>\n",
              "      <td>0.49125</td>\n",
              "    </tr>\n",
              "    <tr>\n",
              "      <th>9</th>\n",
              "      <td>macro avg</td>\n",
              "      <td>0.490892</td>\n",
              "      <td>0.484772</td>\n",
              "      <td>0.480799</td>\n",
              "      <td>800.00000</td>\n",
              "    </tr>\n",
              "    <tr>\n",
              "      <th>10</th>\n",
              "      <td>weighted avg</td>\n",
              "      <td>0.517591</td>\n",
              "      <td>0.491250</td>\n",
              "      <td>0.497266</td>\n",
              "      <td>800.00000</td>\n",
              "    </tr>\n",
              "  </tbody>\n",
              "</table>\n",
              "</div>\n",
              "      <button class=\"colab-df-convert\" onclick=\"convertToInteractive('df-0bd06357-8adf-4fdf-8d21-c04620ff3341')\"\n",
              "              title=\"Convert this dataframe to an interactive table.\"\n",
              "              style=\"display:none;\">\n",
              "        \n",
              "  <svg xmlns=\"http://www.w3.org/2000/svg\" height=\"24px\"viewBox=\"0 0 24 24\"\n",
              "       width=\"24px\">\n",
              "    <path d=\"M0 0h24v24H0V0z\" fill=\"none\"/>\n",
              "    <path d=\"M18.56 5.44l.94 2.06.94-2.06 2.06-.94-2.06-.94-.94-2.06-.94 2.06-2.06.94zm-11 1L8.5 8.5l.94-2.06 2.06-.94-2.06-.94L8.5 2.5l-.94 2.06-2.06.94zm10 10l.94 2.06.94-2.06 2.06-.94-2.06-.94-.94-2.06-.94 2.06-2.06.94z\"/><path d=\"M17.41 7.96l-1.37-1.37c-.4-.4-.92-.59-1.43-.59-.52 0-1.04.2-1.43.59L10.3 9.45l-7.72 7.72c-.78.78-.78 2.05 0 2.83L4 21.41c.39.39.9.59 1.41.59.51 0 1.02-.2 1.41-.59l7.78-7.78 2.81-2.81c.8-.78.8-2.07 0-2.86zM5.41 20L4 18.59l7.72-7.72 1.47 1.35L5.41 20z\"/>\n",
              "  </svg>\n",
              "      </button>\n",
              "      \n",
              "  <style>\n",
              "    .colab-df-container {\n",
              "      display:flex;\n",
              "      flex-wrap:wrap;\n",
              "      gap: 12px;\n",
              "    }\n",
              "\n",
              "    .colab-df-convert {\n",
              "      background-color: #E8F0FE;\n",
              "      border: none;\n",
              "      border-radius: 50%;\n",
              "      cursor: pointer;\n",
              "      display: none;\n",
              "      fill: #1967D2;\n",
              "      height: 32px;\n",
              "      padding: 0 0 0 0;\n",
              "      width: 32px;\n",
              "    }\n",
              "\n",
              "    .colab-df-convert:hover {\n",
              "      background-color: #E2EBFA;\n",
              "      box-shadow: 0px 1px 2px rgba(60, 64, 67, 0.3), 0px 1px 3px 1px rgba(60, 64, 67, 0.15);\n",
              "      fill: #174EA6;\n",
              "    }\n",
              "\n",
              "    [theme=dark] .colab-df-convert {\n",
              "      background-color: #3B4455;\n",
              "      fill: #D2E3FC;\n",
              "    }\n",
              "\n",
              "    [theme=dark] .colab-df-convert:hover {\n",
              "      background-color: #434B5C;\n",
              "      box-shadow: 0px 1px 3px 1px rgba(0, 0, 0, 0.15);\n",
              "      filter: drop-shadow(0px 1px 2px rgba(0, 0, 0, 0.3));\n",
              "      fill: #FFFFFF;\n",
              "    }\n",
              "  </style>\n",
              "\n",
              "      <script>\n",
              "        const buttonEl =\n",
              "          document.querySelector('#df-0bd06357-8adf-4fdf-8d21-c04620ff3341 button.colab-df-convert');\n",
              "        buttonEl.style.display =\n",
              "          google.colab.kernel.accessAllowed ? 'block' : 'none';\n",
              "\n",
              "        async function convertToInteractive(key) {\n",
              "          const element = document.querySelector('#df-0bd06357-8adf-4fdf-8d21-c04620ff3341');\n",
              "          const dataTable =\n",
              "            await google.colab.kernel.invokeFunction('convertToInteractive',\n",
              "                                                     [key], {});\n",
              "          if (!dataTable) return;\n",
              "\n",
              "          const docLinkHtml = 'Like what you see? Visit the ' +\n",
              "            '<a target=\"_blank\" href=https://colab.research.google.com/notebooks/data_table.ipynb>data table notebook</a>'\n",
              "            + ' to learn more about interactive tables.';\n",
              "          element.innerHTML = '';\n",
              "          dataTable['output_type'] = 'display_data';\n",
              "          await google.colab.output.renderOutput(dataTable, element);\n",
              "          const docLink = document.createElement('div');\n",
              "          docLink.innerHTML = docLinkHtml;\n",
              "          element.appendChild(docLink);\n",
              "        }\n",
              "      </script>\n",
              "    </div>\n",
              "  </div>\n",
              "  "
            ]
          },
          "metadata": {},
          "execution_count": 61
        }
      ],
      "source": [
        "from sklearn.metrics import classification_report\n",
        "\n",
        "#Printing the classification report\n",
        "cr = classification_report(mnb_y_pred_test, y_test, output_dict=True)\n",
        "dfmnb = pd.DataFrame(cr).T.reset_index()\n",
        "dfmnb\n"
      ]
    },
    {
      "cell_type": "code",
      "execution_count": null,
      "metadata": {
        "id": "Z99iKyxr0xG6",
        "colab": {
          "base_uri": "https://localhost:8080/",
          "height": 592
        },
        "outputId": "47e6fff0-44bf-40af-e021-94ba8f7ed309"
      },
      "outputs": [
        {
          "output_type": "display_data",
          "data": {
            "text/plain": [
              "<Figure size 640x480 with 2 Axes>"
            ],
            "image/png": "[encoded data removed]"
          },
          "metadata": {}
        }
      ],
      "source": [
        "res = confusion_matrix(y_test, mnb_y_pred_test , normalize='pred')\n",
        "cm = pd.DataFrame(res, class_names, class_names)\n",
        "sns.set(font_scale=1)\n",
        "ax=plt.subplot()\n",
        "sns.heatmap(cm, annot=True, annot_kws={\"size\": 10})\n",
        "ax.set_xlabel('Prediction');ax.set_ylabel('True'); \n",
        "ax.set_title('Confusion matrix'); \n",
        "plt.show()"
      ]
    },
    {
      "cell_type": "markdown",
      "metadata": {
        "id": "tDUPKEF3jELG"
      },
      "source": [
        "###KNN"
      ]
    },
    {
      "cell_type": "code",
      "execution_count": null,
      "metadata": {
        "id": "U8OJJQacjE3O"
      },
      "outputs": [],
      "source": [
        "import cv2\n",
        "import numpy as np\n",
        "from sklearn.neighbors import KNeighborsClassifier\n",
        "from sklearn.metrics import accuracy_score\n"
      ]
    },
    {
      "cell_type": "code",
      "execution_count": null,
      "metadata": {
        "id": "bZHCwEVXjFUb"
      },
      "outputs": [],
      "source": [
        "# Initialize a KNN classifier\n",
        "knn_clf = KNeighborsClassifier(n_neighbors=5)\n",
        "\n",
        "# Train the classifier on the training data\n",
        "knn_model=knn_clf.fit(X_train, y_train)\n",
        "\n",
        "# Predict the labels for the training data\n",
        "knn_y_pred_train = knn_clf.predict(X_train)"
      ]
    },
    {
      "cell_type": "code",
      "source": [
        "# Evaluate the accuracy of the classifier\n",
        "knn_acc_train = accuracy_score(y_train, knn_y_pred_train)\n",
        "print('Training accuracy:', knn_acc_train)"
      ],
      "metadata": {
        "colab": {
          "base_uri": "https://localhost:8080/"
        },
        "id": "2FfFcvISnVVz",
        "outputId": "bb20876d-3976-452f-fe43-fcfa018c81ec"
      },
      "execution_count": null,
      "outputs": [
        {
          "output_type": "stream",
          "name": "stdout",
          "text": [
            "Training accuracy: 0.77375\n"
          ]
        }
      ]
    },
    {
      "cell_type": "code",
      "execution_count": null,
      "metadata": {
        "colab": {
          "base_uri": "https://localhost:8080/"
        },
        "id": "v4L-9fkijLEK",
        "outputId": "0c90a323-0b6a-440c-837c-77779ad23838"
      },
      "outputs": [
        {
          "output_type": "stream",
          "name": "stdout",
          "text": [
            "Test accuracy: 0.67625\n"
          ]
        }
      ],
      "source": [
        "# Predict the labels for the test data\n",
        "knn_y_pred_test = knn_clf.predict(X_test.reshape(len(test), -1))\n",
        "\n",
        "# Evaluate the accuracy of the classifier\n",
        "knn_acc_test = accuracy_score(y_test, knn_y_pred_test)\n",
        "print('Test accuracy:', knn_acc_test)\n",
        "\n"
      ]
    },
    {
      "cell_type": "code",
      "source": [
        "knn_acc_test = accuracy_score(y_test, knn_y_pred_test)\n",
        "print('Test Accuracy:', knn_acc_test)\n",
        "\n",
        "knn_pre_test = precision_score(y_test, knn_y_pred_test, average='macro')\n",
        "print('Test Precision:', knn_pre_test)\n",
        "\n",
        "knn_f1_test = f1_score(y_test, knn_y_pred_test, average='macro')\n",
        "print('Test F1 Score:', knn_f1_test)\n",
        "\n",
        "knn_recall_test = recall_score(y_test, knn_y_pred_test, average='macro')\n",
        "print('Test Recall:', knn_recall_test)\n"
      ],
      "metadata": {
        "colab": {
          "base_uri": "https://localhost:8080/"
        },
        "id": "PZLW7f37stlB",
        "outputId": "6a133d19-3154-4c3a-802d-cd88dd5f9edc"
      },
      "execution_count": null,
      "outputs": [
        {
          "output_type": "stream",
          "name": "stdout",
          "text": [
            "Test Accuracy: 0.67625\n",
            "Test Precision: 0.6943156269646846\n",
            "Test F1 Score: 0.6671145312518887\n",
            "Test Recall: 0.6650471191826899\n"
          ]
        }
      ]
    },
    {
      "cell_type": "code",
      "execution_count": null,
      "metadata": {
        "id": "to8mCDvajOAg",
        "colab": {
          "base_uri": "https://localhost:8080/",
          "height": 394
        },
        "outputId": "6d5fd6fe-dfec-4f4a-f7d9-efea31e3fe94"
      },
      "outputs": [
        {
          "output_type": "execute_result",
          "data": {
            "text/plain": [
              "               index  precision    recall  f1-score    support\n",
              "0        Anthracnose   0.666667  0.684685  0.675556  111.00000\n",
              "1   Bacterial Canker   0.896226  0.641892  0.748031  148.00000\n",
              "2     Cutting Weevil   0.597826  1.000000  0.748299   55.00000\n",
              "3           Die Back   0.896552  0.670968  0.767528  155.00000\n",
              "4         Gall Midge   0.522727  0.516854  0.519774   89.00000\n",
              "5            Healthy   0.579545  0.680000  0.625767   75.00000\n",
              "6     Powdery Mildew   0.640000  0.719101  0.677249   89.00000\n",
              "7        Sooty Mould   0.520833  0.641026  0.574713   78.00000\n",
              "8           accuracy   0.676250  0.676250  0.676250    0.67625\n",
              "9          macro avg   0.665047  0.694316  0.667115  800.00000\n",
              "10      weighted avg   0.707576  0.676250  0.680142  800.00000"
            ],
            "text/html": [
              "\n",
              "  <div id=\"df-b8e76183-ff6a-48f1-a4c3-9d5e65ddff22\">\n",
              "    <div class=\"colab-df-container\">\n",
              "      <div>\n",
              "<style scoped>\n",
              "    .dataframe tbody tr th:only-of-type {\n",
              "        vertical-align: middle;\n",
              "    }\n",
              "\n",
              "    .dataframe tbody tr th {\n",
              "        vertical-align: top;\n",
              "    }\n",
              "\n",
              "    .dataframe thead th {\n",
              "        text-align: right;\n",
              "    }\n",
              "</style>\n",
              "<table border=\"1\" class=\"dataframe\">\n",
              "  <thead>\n",
              "    <tr style=\"text-align: right;\">\n",
              "      <th></th>\n",
              "      <th>index</th>\n",
              "      <th>precision</th>\n",
              "      <th>recall</th>\n",
              "      <th>f1-score</th>\n",
              "      <th>support</th>\n",
              "    </tr>\n",
              "  </thead>\n",
              "  <tbody>\n",
              "    <tr>\n",
              "      <th>0</th>\n",
              "      <td>Anthracnose</td>\n",
              "      <td>0.666667</td>\n",
              "      <td>0.684685</td>\n",
              "      <td>0.675556</td>\n",
              "      <td>111.00000</td>\n",
              "    </tr>\n",
              "    <tr>\n",
              "      <th>1</th>\n",
              "      <td>Bacterial Canker</td>\n",
              "      <td>0.896226</td>\n",
              "      <td>0.641892</td>\n",
              "      <td>0.748031</td>\n",
              "      <td>148.00000</td>\n",
              "    </tr>\n",
              "    <tr>\n",
              "      <th>2</th>\n",
              "      <td>Cutting Weevil</td>\n",
              "      <td>0.597826</td>\n",
              "      <td>1.000000</td>\n",
              "      <td>0.748299</td>\n",
              "      <td>55.00000</td>\n",
              "    </tr>\n",
              "    <tr>\n",
              "      <th>3</th>\n",
              "      <td>Die Back</td>\n",
              "      <td>0.896552</td>\n",
              "      <td>0.670968</td>\n",
              "      <td>0.767528</td>\n",
              "      <td>155.00000</td>\n",
              "    </tr>\n",
              "    <tr>\n",
              "      <th>4</th>\n",
              "      <td>Gall Midge</td>\n",
              "      <td>0.522727</td>\n",
              "      <td>0.516854</td>\n",
              "      <td>0.519774</td>\n",
              "      <td>89.00000</td>\n",
              "    </tr>\n",
              "    <tr>\n",
              "      <th>5</th>\n",
              "      <td>Healthy</td>\n",
              "      <td>0.579545</td>\n",
              "      <td>0.680000</td>\n",
              "      <td>0.625767</td>\n",
              "      <td>75.00000</td>\n",
              "    </tr>\n",
              "    <tr>\n",
              "      <th>6</th>\n",
              "      <td>Powdery Mildew</td>\n",
              "      <td>0.640000</td>\n",
              "      <td>0.719101</td>\n",
              "      <td>0.677249</td>\n",
              "      <td>89.00000</td>\n",
              "    </tr>\n",
              "    <tr>\n",
              "      <th>7</th>\n",
              "      <td>Sooty Mould</td>\n",
              "      <td>0.520833</td>\n",
              "      <td>0.641026</td>\n",
              "      <td>0.574713</td>\n",
              "      <td>78.00000</td>\n",
              "    </tr>\n",
              "    <tr>\n",
              "      <th>8</th>\n",
              "      <td>accuracy</td>\n",
              "      <td>0.676250</td>\n",
              "      <td>0.676250</td>\n",
              "      <td>0.676250</td>\n",
              "      <td>0.67625</td>\n",
              "    </tr>\n",
              "    <tr>\n",
              "      <th>9</th>\n",
              "      <td>macro avg</td>\n",
              "      <td>0.665047</td>\n",
              "      <td>0.694316</td>\n",
              "      <td>0.667115</td>\n",
              "      <td>800.00000</td>\n",
              "    </tr>\n",
              "    <tr>\n",
              "      <th>10</th>\n",
              "      <td>weighted avg</td>\n",
              "      <td>0.707576</td>\n",
              "      <td>0.676250</td>\n",
              "      <td>0.680142</td>\n",
              "      <td>800.00000</td>\n",
              "    </tr>\n",
              "  </tbody>\n",
              "</table>\n",
              "</div>\n",
              "      <button class=\"colab-df-convert\" onclick=\"convertToInteractive('df-b8e76183-ff6a-48f1-a4c3-9d5e65ddff22')\"\n",
              "              title=\"Convert this dataframe to an interactive table.\"\n",
              "              style=\"display:none;\">\n",
              "        \n",
              "  <svg xmlns=\"http://www.w3.org/2000/svg\" height=\"24px\"viewBox=\"0 0 24 24\"\n",
              "       width=\"24px\">\n",
              "    <path d=\"M0 0h24v24H0V0z\" fill=\"none\"/>\n",
              "    <path d=\"M18.56 5.44l.94 2.06.94-2.06 2.06-.94-2.06-.94-.94-2.06-.94 2.06-2.06.94zm-11 1L8.5 8.5l.94-2.06 2.06-.94-2.06-.94L8.5 2.5l-.94 2.06-2.06.94zm10 10l.94 2.06.94-2.06 2.06-.94-2.06-.94-.94-2.06-.94 2.06-2.06.94z\"/><path d=\"M17.41 7.96l-1.37-1.37c-.4-.4-.92-.59-1.43-.59-.52 0-1.04.2-1.43.59L10.3 9.45l-7.72 7.72c-.78.78-.78 2.05 0 2.83L4 21.41c.39.39.9.59 1.41.59.51 0 1.02-.2 1.41-.59l7.78-7.78 2.81-2.81c.8-.78.8-2.07 0-2.86zM5.41 20L4 18.59l7.72-7.72 1.47 1.35L5.41 20z\"/>\n",
              "  </svg>\n",
              "      </button>\n",
              "      \n",
              "  <style>\n",
              "    .colab-df-container {\n",
              "      display:flex;\n",
              "      flex-wrap:wrap;\n",
              "      gap: 12px;\n",
              "    }\n",
              "\n",
              "    .colab-df-convert {\n",
              "      background-color: #E8F0FE;\n",
              "      border: none;\n",
              "      border-radius: 50%;\n",
              "      cursor: pointer;\n",
              "      display: none;\n",
              "      fill: #1967D2;\n",
              "      height: 32px;\n",
              "      padding: 0 0 0 0;\n",
              "      width: 32px;\n",
              "    }\n",
              "\n",
              "    .colab-df-convert:hover {\n",
              "      background-color: #E2EBFA;\n",
              "      box-shadow: 0px 1px 2px rgba(60, 64, 67, 0.3), 0px 1px 3px 1px rgba(60, 64, 67, 0.15);\n",
              "      fill: #174EA6;\n",
              "    }\n",
              "\n",
              "    [theme=dark] .colab-df-convert {\n",
              "      background-color: #3B4455;\n",
              "      fill: #D2E3FC;\n",
              "    }\n",
              "\n",
              "    [theme=dark] .colab-df-convert:hover {\n",
              "      background-color: #434B5C;\n",
              "      box-shadow: 0px 1px 3px 1px rgba(0, 0, 0, 0.15);\n",
              "      filter: drop-shadow(0px 1px 2px rgba(0, 0, 0, 0.3));\n",
              "      fill: #FFFFFF;\n",
              "    }\n",
              "  </style>\n",
              "\n",
              "      <script>\n",
              "        const buttonEl =\n",
              "          document.querySelector('#df-b8e76183-ff6a-48f1-a4c3-9d5e65ddff22 button.colab-df-convert');\n",
              "        buttonEl.style.display =\n",
              "          google.colab.kernel.accessAllowed ? 'block' : 'none';\n",
              "\n",
              "        async function convertToInteractive(key) {\n",
              "          const element = document.querySelector('#df-b8e76183-ff6a-48f1-a4c3-9d5e65ddff22');\n",
              "          const dataTable =\n",
              "            await google.colab.kernel.invokeFunction('convertToInteractive',\n",
              "                                                     [key], {});\n",
              "          if (!dataTable) return;\n",
              "\n",
              "          const docLinkHtml = 'Like what you see? Visit the ' +\n",
              "            '<a target=\"_blank\" href=https://colab.research.google.com/notebooks/data_table.ipynb>data table notebook</a>'\n",
              "            + ' to learn more about interactive tables.';\n",
              "          element.innerHTML = '';\n",
              "          dataTable['output_type'] = 'display_data';\n",
              "          await google.colab.output.renderOutput(dataTable, element);\n",
              "          const docLink = document.createElement('div');\n",
              "          docLink.innerHTML = docLinkHtml;\n",
              "          element.appendChild(docLink);\n",
              "        }\n",
              "      </script>\n",
              "    </div>\n",
              "  </div>\n",
              "  "
            ]
          },
          "metadata": {},
          "execution_count": 75
        }
      ],
      "source": [
        "from sklearn.metrics import classification_report\n",
        "\n",
        "#Printing the classification report\n",
        "cr = classification_report(knn_y_pred_test, y_test, output_dict=True)\n",
        "knn_cr = pd.DataFrame(cr).T.reset_index()\n",
        "knn_cr\n"
      ]
    },
    {
      "cell_type": "code",
      "source": [
        "res = confusion_matrix(y_test, knn_y_pred_test , normalize='pred')\n",
        "cm = pd.DataFrame(res, class_names, class_names)\n",
        "sns.set(font_scale=1)\n",
        "ax=plt.subplot()\n",
        "sns.heatmap(cm, annot=True, annot_kws={\"size\": 10})\n",
        "ax.set_xlabel('Prediction');ax.set_ylabel('True'); \n",
        "ax.set_title('Confusion matrix'); \n",
        "plt.show()"
      ],
      "metadata": {
        "colab": {
          "base_uri": "https://localhost:8080/",
          "height": 592
        },
        "id": "U5-SuSOMsMfB",
        "outputId": "2af1af8e-58bb-4ab7-d647-276b993fcd2f"
      },
      "execution_count": null,
      "outputs": [
        {
          "output_type": "display_data",
          "data": {
            "text/plain": [
              "<Figure size 640x480 with 2 Axes>"
            ],
            "image/png": "[encoded data removed]"
          },
          "metadata": {}
        }
      ]
    },
    {
      "cell_type": "markdown",
      "source": [
        "###Visual Comparison"
      ],
      "metadata": {
        "id": "1jjd7sItsRwT"
      }
    },
    {
      "cell_type": "code",
      "source": [
        "import matplotlib.pyplot as plt\n",
        "\n",
        "models = ['Multinomial NB', 'K-Nearest Neighbors', 'Decision Tree']\n",
        "\n",
        "train_acc = [mnb_acc_train, knn_acc_train, dt_acc_train]\n",
        "test_acc = [mnb_acc_test, knn_acc_test, dt_acc_test]\n",
        "\n",
        "x_pos = [i for i, _ in enumerate(models)]\n",
        "\n",
        "plt.bar(x_pos, train_acc, color='blue', alpha=0.5, label='Train')\n",
        "plt.bar(x_pos, test_acc, color='red', alpha=0.5, label='Test')\n",
        "plt.xlabel(\"Models\")\n",
        "plt.ylabel(\"Accuracy\")\n",
        "plt.title(\"Train vs Test Accuracy for Different Models\")\n",
        "\n",
        "plt.xticks(x_pos, models)\n",
        "plt.legend()\n",
        "plt.show()\n"
      ],
      "metadata": {
        "colab": {
          "base_uri": "https://localhost:8080/",
          "height": 480
        },
        "id": "gYhn5gJksRO6",
        "outputId": "5896c4f3-c36b-4adf-c07c-da96aa213540"
      },
      "execution_count": null,
      "outputs": [
        {
          "output_type": "display_data",
          "data": {
            "text/plain": [
              "<Figure size 640x480 with 1 Axes>"
            ],
            "image/png": "[encoded data removed]"
          },
          "metadata": {}
        }
      ]
    },
    {
      "cell_type": "code",
      "source": [],
      "metadata": {
        "id": "_Et5nyTstGto"
      },
      "execution_count": null,
      "outputs": []
    }
  ],
  "metadata": {
    "colab": {
      "provenance": [],
      "machine_shape": "hm"
    },
    "kernelspec": {
      "display_name": "Python 3",
      "name": "python3"
    },
    "language_info": {
      "name": "python"
    },
    "accelerator": "GPU",
    "gpuClass": "premium"
  },
  "nbformat": 4,
  "nbformat_minor": 0
}